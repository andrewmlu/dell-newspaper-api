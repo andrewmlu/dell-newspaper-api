{
  "nbformat": 4,
  "nbformat_minor": 0,
  "metadata": {
    "colab": {
      "provenance": [],
      "authorship_tag": "ABX9TyNiT3GcBgsYDxDkqwsKLejI",
      "include_colab_link": true
    },
    "kernelspec": {
      "name": "python3",
      "display_name": "Python 3"
    },
    "language_info": {
      "name": "python"
    }
  },
  "cells": [
    {
      "cell_type": "markdown",
      "metadata": {
        "id": "view-in-github",
        "colab_type": "text"
      },
      "source": [
        "<a href=\"https://colab.research.google.com/github/andrewmlu/dell-newspaper-api/blob/main/Dell_NewsAPI.ipynb\" target=\"_parent\"><img src=\"https://colab.research.google.com/assets/colab-badge.svg\" alt=\"Open In Colab\"/></a>"
      ]
    },
    {
      "cell_type": "code",
      "execution_count": null,
      "metadata": {
        "colab": {
          "base_uri": "https://localhost:8080/"
        },
        "id": "q3DNnLkBEKSh",
        "outputId": "df013bd5-0008-417d-9f18-d4a726ac517b"
      },
      "outputs": [
        {
          "output_type": "stream",
          "name": "stdout",
          "text": [
            "Collecting newsapi-python\n",
            "  Downloading newsapi_python-0.2.7-py2.py3-none-any.whl (7.9 kB)\n",
            "Requirement already satisfied: requests<3.0.0 in /usr/local/lib/python3.10/dist-packages (from newsapi-python) (2.31.0)\n",
            "Requirement already satisfied: charset-normalizer<4,>=2 in /usr/local/lib/python3.10/dist-packages (from requests<3.0.0->newsapi-python) (3.3.0)\n",
            "Requirement already satisfied: idna<4,>=2.5 in /usr/local/lib/python3.10/dist-packages (from requests<3.0.0->newsapi-python) (3.4)\n",
            "Requirement already satisfied: urllib3<3,>=1.21.1 in /usr/local/lib/python3.10/dist-packages (from requests<3.0.0->newsapi-python) (2.0.6)\n",
            "Requirement already satisfied: certifi>=2017.4.17 in /usr/local/lib/python3.10/dist-packages (from requests<3.0.0->newsapi-python) (2023.7.22)\n",
            "Installing collected packages: newsapi-python\n",
            "Successfully installed newsapi-python-0.2.7\n"
          ]
        }
      ],
      "source": [
        "!pip install newsapi-python\n",
        "!pip3 install newspaper3k"
      ]
    },
    {
      "cell_type": "code",
      "source": [
        "from newsapi import NewsApiClient\n",
        "import newspaper\n",
        "\n",
        "newsapi = NewsApiClient(api_key='6c34b8a2b3e94334bb0ce0ce92d24939')"
      ],
      "metadata": {
        "colab": {
          "base_uri": "https://localhost:8080/"
        },
        "id": "9GK2fgYDEMgW",
        "outputId": "6c2ff7fa-64d0-408c-ebd0-e767298d2e0e"
      },
      "execution_count": null,
      "outputs": [
        {
          "output_type": "stream",
          "name": "stdout",
          "text": [
            "{'status': 'ok', 'totalResults': 10, 'articles': [{'source': {'id': 'the-washington-post', 'name': 'The Washington Post'}, 'author': 'Carolyn Hax, Haben Kelati', 'title': 'The best Carolyn Hax columns about becoming an adult', 'description': 'We’ve rounded up the best Carolyn Hax columns about becoming an adult.', 'url': 'https://www.washingtonpost.com/advice/2023/10/09/carolyn-hax-best-columns-becoming-an-adult/', 'urlToImage': 'https://www.washingtonpost.com/wp-apps/imrs.php?src=https://arc-anglerfish-washpost-prod-washpost.s3.amazonaws.com/public/MC6QIVBYMNECZAZTLQZ7H6INMY.jpg&w=1440', 'publishedAt': '2023-10-09T16:00:00Z', 'content': 'Young adults and teens have written to Carolyn Hax asking about becoming an adult and facing the new problems and decisions that come with it. Check out this list of the best Carolyn Hax columns abou… [+213 chars]'}, {'source': {'id': 'the-washington-post', 'name': 'The Washington Post'}, 'author': 'Sammy Westfall, Brian Murphy, Adam Taylor, Bryan Pietsch', 'title': 'The Israeli-Palestinian conflict: A chronology', 'description': 'A wave of attacks by Palestinian militants on Israel, and Israel’s declaration of war against Hamas, has brought new attention to an old problem.', 'url': 'https://www.washingtonpost.com/world/2021/05/13/israel-palestinians-timeline-conflict-2/', 'urlToImage': 'https://www.washingtonpost.com/wp-apps/imrs.php?src=https://arc-anglerfish-washpost-prod-washpost.s3.amazonaws.com/public/LEZUVPQI227FESXNR4J3Y6ENPQ.jpg&w=1440', 'publishedAt': '2023-10-09T15:59:25Z', 'content': 'Return to menuThe Ottoman Empire had controlled that region in the Middle East region from the early 16th century until control of most of the region was granted to the British after World War I.\\r\\nBo… [+1484 chars]'}, {'source': {'id': 'the-washington-post', 'name': 'The Washington Post'}, 'author': 'Maegan Vazquez', 'title': 'Kevin McCarthy says he’s willing to return as speaker', 'description': 'McCarthy made the comment as the House Republican conference prepared to meet for the first time since his ouster.', 'url': 'https://www.washingtonpost.com/politics/2023/10/09/house-republican-speaker/', 'urlToImage': 'https://www.washingtonpost.com/wp-apps/imrs.php?src=https://arc-anglerfish-washpost-prod-washpost.s3.amazonaws.com/public/4PLSIWZGAAUO4IEVBCO5U3HVFA_size-normalized.jpg&w=1440', 'publishedAt': '2023-10-09T13:52:14Z', 'content': 'Comment on this story\\r\\nComment\\r\\nRep. Kevin McCarthy (R-Calif.) said Monday that he is willing to resume serving as House speaker if enough of the Republicans who voted in favor of his ouster last wee… [+1856 chars]'}, {'source': {'id': 'the-washington-post', 'name': 'The Washington Post'}, 'author': 'Niha Masih', 'title': 'What is Hamas, and why did it attack Israel now?', 'description': 'Hamas surprised Israel, but its incursion comes after months of rising tensions over violence at al-Aqsa Mosque and the occupation and blockade of Palestinians.', 'url': 'https://www.washingtonpost.com/world/2023/10/09/hamas-israel-war-explainer/', 'urlToImage': 'https://www.washingtonpost.com/wp-apps/imrs.php?src=https://arc-anglerfish-washpost-prod-washpost.s3.amazonaws.com/public/2EMOF2LL2BGATMFHQQAIRISVB4_size-normalized.jpg&w=1440', 'publishedAt': '2023-10-09T11:44:57Z', 'content': 'Comment on this story\\r\\nComment\\r\\nIsrael declared war against Hamas on Sunday following a surprise attack by the Palestinian militant group based in Gaza that included the taking of military and civili… [+929 chars]'}, {'source': {'id': 'the-washington-post', 'name': 'The Washington Post'}, 'author': 'Steve Hendrix, Shira Rubin, Susannah George, Hazem Balousha, William Booth', 'title': 'Israel declares Gaza siege as Hamas fires rockets and toll mounts', 'description': 'On the third day of fighting, Hamas was still launching rockets against Israel while its fighters battled soldiers around the borders of the Gaza Strip.', 'url': 'https://www.washingtonpost.com/world/2023/10/09/israel-gaza-war-hamas/', 'urlToImage': 'https://www.washingtonpost.com/wp-apps/imrs.php?src=https://arc-anglerfish-washpost-prod-washpost.s3.amazonaws.com/public/CV2X2FQLC5PSFU6X4HPDMJ26LU_size-normalized.jpg&w=1440', 'publishedAt': '2023-10-09T11:12:20Z', 'content': 'Comment on this story\\r\\nComment\\r\\nJERUSALEM On the third day of fighting after Hamas militants launched surprise rocket and ground assaults, Israel ordered a complete siege of the Gaza Strip, even as i… [+6414 chars]'}, {'source': {'id': 'the-washington-post', 'name': 'The Washington Post'}, 'author': 'Joseph Menn, Max Hoppenstedt, Michael Birnbaum, Yann Philippin, Rafael Buschmann, Nicola Naber', 'title': 'Vietnam tried to hack U.S. officials, CNN with posts on X, probe finds', 'description': 'The targeting came as Vietnamese and American diplomats were negotiating a major cooperation agreement intended to counter growing Chinese influence in the region.', 'url': 'https://www.washingtonpost.com/technology/2023/10/09/vietnam-predator-hack-investigation/', 'urlToImage': 'https://www.washingtonpost.com/wp-apps/imrs.php?src=https://arc-anglerfish-washpost-prod-washpost.s3.amazonaws.com/public/HVZ3CILZ25C3LG4FBIRO5JTXBM.jpg&w=1440', 'publishedAt': '2023-10-09T11:00:00Z', 'content': 'Comment on this story\\r\\nComment\\r\\nVietnamese government agents tried to plant spyware on the phones of members of Congress, American policy experts and U.S. journalists this year in a brazen campaign t… [+19013 chars]'}, {'source': {'id': 'the-washington-post', 'name': 'The Washington Post'}, 'author': 'Abha Bhattarai', 'title': 'Nobel Economics Prize awarded to Claudia Goldin for women’s role in work place', 'description': 'Harvard professor Claudia Goldin awarded the Nobel Prize for “groundbreaking research” on women in the labor market.', 'url': 'https://www.washingtonpost.com/business/2023/10/09/nobel-prize-economics-claudia-goldin-2023/', 'urlToImage': 'https://www.washingtonpost.com/wp-apps/imrs.php?src=https://arc-anglerfish-washpost-prod-washpost.s3.amazonaws.com/public/RPMQRSX5VRFOYTBCMQLM54AQ6M.JPG&w=1440', 'publishedAt': '2023-10-09T09:53:50Z', 'content': 'Professor Claudia Goldin, a professor at Harvard University, was awarded the Nobel Memorial Prize in Economic Sciences on Monday for her work in women in the labor market.\\r\\nThe Royal Swedish Academy … [+412 chars]'}, {'source': {'id': 'the-washington-post', 'name': 'The Washington Post'}, 'author': 'Rachel Pannett, Kelly Kasulis Cho, Niha Masih, Samuel Oakford, Evan Hill, Joyce Sohyun Lee, Meg Kelly', 'title': 'Israel-Hamas conflict live updates: Fighting continues in southern Israel, with death toll expected to rise', 'description': 'The attacks in Israel and Gaza have left hundreds dead and an unknown number of hostages on each side. Biden has promised Netanyahu U.S. military support.', 'url': 'https://www.washingtonpost.com/world/2023/10/09/israel-hamas-war-gaza-violence/', 'urlToImage': 'https://www.washingtonpost.com/wp-apps/imrs.php?src=https://arc-anglerfish-washpost-prod-washpost.s3.amazonaws.com/public/7VAN2TDXLTFLXCTDODMN454JJU_size-normalized.jpg&w=1440', 'publishedAt': '2023-10-09T04:42:30Z', 'content': 'The death toll from a surprise attack that officials are describing as one of the worst days in Israeli history is expected to rise, with many of the injured suffering critical wounds as Palestinian … [+727 chars]'}, {'source': {'id': 'the-washington-post', 'name': 'The Washington Post'}, 'author': 'Loveday Morris, Imogen Piper, Joyce Sohyun Lee, Susannah George', 'title': 'How a night of dancing and revelry in Israel turned into a massacre', 'description': 'At least 260 bodies have been recovered from the site of a trance music festival in Israel, one of the first targets for Hamas militants as they launched their surprise attack Saturday.', 'url': 'https://www.washingtonpost.com/world/2023/10/08/israel-festival-attack-gaza-militants/', 'urlToImage': 'https://www.washingtonpost.com/wp-apps/imrs.php?src=https://d1i4t8bqe7zgj6.cloudfront.net/10-08-2023/t_12b21cccc02d430c9868ae39c3c55d6b_name_Screenshot_2023_10_08_at_6_43_27_PM_scaled.jpg&w=1440', 'publishedAt': '2023-10-08T18:39:00Z', 'content': 'Comment on this story\\r\\nComment\\r\\nThe first rockets were fired just before dawn, arcing through the sky over thousands of revelers who had been dancing through the night at a trance music festival bill… [+8215 chars]'}, {'source': {'id': 'the-washington-post', 'name': 'The Washington Post'}, 'author': 'Andrew Van Dam', 'title': 'The troubling relationship between your job and your odds of drug overdose', 'description': 'We dig into the most detailed data ever released on how your job is linked with your chances of overdose -- and find some surprising connections.', 'url': 'https://www.washingtonpost.com/business/2023/10/06/jobs-likely-to-overdose/', 'urlToImage': 'https://www.washingtonpost.com/wp-apps/imrs.php?src=https://arc-anglerfish-washpost-prod-washpost.s3.amazonaws.com/public/NC7XJYHIRGOMJWDVBLQ6JQXYGQ.JPG&w=1440', 'publishedAt': '2023-10-06T10:00:00Z', 'content': 'Comment on this story\\r\\nComment\\r\\nDrug overdosedeaths in America have doubled since 2015. Theyve more than quintupled since 2001. As we struggle to understand the risk factors, could we be overlooking … [+11037 chars]'}]}\n"
          ]
        }
      ]
    },
    {
      "cell_type": "code",
      "source": [
        "# /v2/top-headlines\n",
        "top_headlines = newsapi.get_top_headlines(sources=\"the-washington-post\", page_size=10)\n",
        "\n",
        "print(top_headlines)"
      ],
      "metadata": {
        "id": "Fy1L70QXY39e"
      },
      "execution_count": null,
      "outputs": []
    },
    {
      "cell_type": "code",
      "source": [
        "# sources = newsapi.get_sources()\n",
        "# sources\n",
        "\n",
        "# # /v2/everything\n",
        "# article = newsapi.get_everything(q='Comment on this story\\r\\nComment\\r\\nRep. Kevin McCarthy (R-Calif.) said Monday that he is willing to resume serving as House speaker if enough of the Republicans who voted in favor of his ouster last')\n",
        "\n",
        "# /v2/top-headlines/sources\n",
        "# sources = newsapi.get_sources()"
      ],
      "metadata": {
        "id": "nfmkTqPiGa02"
      },
      "execution_count": null,
      "outputs": []
    },
    {
      "cell_type": "code",
      "source": [
        "top_headlines_list = list(top_headlines.items())[2][1]"
      ],
      "metadata": {
        "id": "otN_F-5YEQ9k"
      },
      "execution_count": 34,
      "outputs": []
    },
    {
      "cell_type": "code",
      "source": [
        "def extract_text_from_url(url):\n",
        "  article = newspaper.Article(url)\n",
        "  # article.html\n",
        "  article.download()\n",
        "  article.parse()\n",
        "  return article.text, article.authors, article.publish_date, article.html"
      ],
      "metadata": {
        "id": "4JdU_NMZZGb_"
      },
      "execution_count": 40,
      "outputs": []
    },
    {
      "cell_type": "code",
      "source": [
        "articles = []\n",
        "for headline in top_headlines_list:\n",
        "  headline_url = (headline['url'])\n",
        "  articles.append(extract_text_from_url(headline_url))"
      ],
      "metadata": {
        "id": "CpLbapcJZ0-G"
      },
      "execution_count": 41,
      "outputs": []
    },
    {
      "cell_type": "code",
      "source": [
        "[article[0][:100] for article in articles]"
      ],
      "metadata": {
        "id": "ckg6JisDW9h4",
        "colab": {
          "base_uri": "https://localhost:8080/"
        },
        "outputId": "a94531a3-8b9b-4ca0-c0bc-2270176d74cf"
      },
      "execution_count": 45,
      "outputs": [
        {
          "output_type": "execute_result",
          "data": {
            "text/plain": [
              "['This teen wants to start a new hobby, but “difficult,” “angry” and “really mean” parents are standin',\n",
              " 'World War I: The question of Palestine\\n\\nThe Ottoman Empire had controlled that part of the Middle Ea',\n",
              " 'Rep. Kevin McCarthy (R-Calif.) said that the House Republican conference would determine the next sp',\n",
              " 'Israel-Hamas war\\n\\nIsrael announced a “full siege” of Gaza, mobilizing 300,000 reservists as it fight',\n",
              " 'Listen 8 min Share Comment on this story Comment\\n\\nJERUSALEM — On the third day of fighting after Ham',\n",
              " 'Listen 17 min Share Comment on this story Comment\\n\\nVietnamese government agents tried to plant spywa',\n",
              " 'Listen 5 min Share Comment on this story Comment\\n\\nProfessor Claudia Goldin, a trailblazing economist',\n",
              " 'At least 900 people have been killed in Israel and about 2,600 wounded,according to reports in local',\n",
              " 'A video shared on Telegram on Oct. 8, shows scorched cars abandoned on the roads near the festival g',\n",
              " 'Department of Data The depressing relationship between your job and your odds of drug overdose Param']"
            ]
          },
          "metadata": {},
          "execution_count": 45
        }
      ]
    },
    {
      "cell_type": "code",
      "source": [
        "articles[4][0]"
      ],
      "metadata": {
        "colab": {
          "base_uri": "https://localhost:8080/",
          "height": 1000
        },
        "id": "z_Nq_aNyaSUh",
        "outputId": "f2c812fb-2f20-4232-b30a-7323d6decefd"
      },
      "execution_count": 49,
      "outputs": [
        {
          "output_type": "execute_result",
          "data": {
            "text/plain": [
              "'Listen 8 min Share Comment on this story Comment\\n\\nJERUSALEM — On the third day of fighting after Hamas militants launched surprise rocket and ground assaults, Israel ordered a complete siege of the Gaza Strip, even as its military was still trying to remove Hamas gunmen from Israeli communities on the enclave’s border. Are you on Telegram? Subscribe to our channel for the latest updates on Russia’s war in Ukraine. ArrowRight Israeli Defense Minister Yoav Gallant told the Southern Command that there would be a “full siege” of the densely populated enclave, which has a population of 2 million.\\n\\n“No electricity, no food, no fuel,” Gallant said. “We are fighting animals, and we will act accordingly.”\\n\\nThe move to punish Gaza for the carnage in Israel came as the death toll grew on both sides. In Israel, at least 900 people have been killed since the attacks started Saturday, local media reported. Palestinian health officials in Gaza said that 687 people have died as a result of Israeli strikes.\\n\\nAdvertisement\\n\\nIn a statement released Monday evening, President Biden said that “at least 11 American citizens were among those killed,” including many who had made a “second home in Israel.” That number could rise, he said, with U.S. citizens still unaccounted for.\\n\\n“While we are still working to confirm, we believe it is likely that American citizens may be among those being held by Hamas,” he said.\\n\\nIn a televised address, Israeli Prime Minister Benjamin Netanyahu warned that Israel’s response was only just starting. He compared Hamas to the Islamic State group, which once controlled swaths of Iraq and Syria and carried out deadly attacks in Europe and North Africa.\\n\\n“What we will do to our enemies in the coming days will reverberate with them for generations,” Netanyahu said.\\n\\nThe rhetoric from Israeli officials alarmed some observers who called it dehumanizing, while others urged restraint.\\n\\nAdvertisement\\n\\nU.N. Secretary General António Guterres said Monday that he was “deeply distressed” at Israel’s plan to “initiate a complete siege of the Gaza Strip.”\\n\\nPalestinian civilians are “trapped and helpless,” Guterres told reporters in New York, calling on Israel to allow continued access for relief officials and humanitarian supplies.\\n\\nAbout 137,000 displaced people were sheltering in schools and facilities operated by UNRWA, the U.N. relief agency for Palestinians, Guterres said.\\n\\nEven before the war, Hamas-led Gaza struggled under a years-long blockade. It gets most of its electricity from Israel, and its groundwater sources have been ruined by pollution and saltwater. More than 90 percent of the water in Gaza’s sole aquifer is no longer potable.\\n\\nBut there was no sign that Hamas was de-escalating. Air raid sirens blared in Jerusalem and Tel Aviv as the group launched salvos at the two cities, appearing to flex its ability to continue striking at the heart of Israel.\\n\\nAdvertisement\\n\\nExplosions were heard in Jerusalem, alongside sonic booms, indicating the activation of Israel’s Iron Dome air defense system. Rockets also landed in southern towns, including Ashkelon.\\n\\nProjectiles landed in Tel Aviv and in Jerusalem in open areas, as well as on Highway 1, the main route connecting the two cities. The country’s main airport remained open, but many carriers canceled flights.\\n\\nAs Israeli troops and tanks headed toward the Gaza border, Hamas fighters continued to infiltrate the border and might have entered Israeli territory, Lt. Col. Richard Hecht, a spokesman for the Israel Defense Forces, said at a news briefing Monday.\\n\\n“We are still fighting. We thought this morning that we would be in a better place,” Hecht said. “We still have open areas. I can’t say that they’re not still coming in.”\\n\\nHecht said it was taking Israeli forces “more time than we thought” to repel Hamas fighters, in part because of the presence of civilians. “This is not military fighting militants. There are civilians in the midst of it. … We are doing it in a very surgical way. It is taking a lot of time.”\\n\\nAdvertisement\\n\\nThe Israeli military said “most” of the breach points had been secured.\\n\\nShare this article Share\\n\\nMasha Michelson, deputy head of the IDF for the international media, said Israeli forces “have reestablished control of communities near the Gaza Strip … but isolated clashes continue as some Palestinian gunmen remain active.”\\n\\nMore than 100 people were “taken captive” by Hamas, Israeli Foreign Minister Eli Cohen told a group of foreign journalists in Jerusalem on Monday, Reuters reported.\\n\\n“This is something different — unprecedented,” Hecht said. “And it’s not soldiers [being held hostage]. … It’s a grandmother, a child, a family, a girl.”\\n\\nHamas’s military wing, the Izzedine al-Qassam Brigades, threatened to execute the hostages if more civilians were killed in Gaza. In an audio message aired on the Al Jazeera news network, Qassam spokesman Abu Obeida said the executions would be recorded.\\n\\nAdvertisement\\n\\nSearching for ways to describe both the scale and surprise of the Hamas attacks, Israeli officers and diplomats repeatedly compared Saturday’s raid to the Japanese attack on Pearl Harbor and to 9/11.\\n\\nLt. Col. Jonathan Conricus, an IDF spokesman, told the BBC that “this could be a 9/11 and a Pearl Harbor wrapped into one.” He called it “by far the worst day in Israeli history. Never before have so many Israelis been killed by one single thing, let alone enemy activity, on one day.”\\n\\nOn Monday, the Israeli rescue service Zaka said more than 100 bodies had been recovered from Beeri, a kibbutz near the Gaza border where Palestinian militants had seized control.\\n\\nInside Gaza, residents spent another terrifying night, feeling and hearing the Israeli bombardment from aircraft, artillery and ships.\\n\\nThe Israeli air force said Monday that it struck more than 500 Hamas and Islamic Jihad targets in Gaza overnight, including seven Hamas command centers and one used by Islamic Jihad.\\n\\nHomes belonging to known Hamas leaders were leveled. At least four mosques were destroyed. Thousands crowded into schools, seeking shelter. The main hospital in Gaza City was also filled with panicked refugees, alongside the sick and wounded.\\n\\nAdvertisement\\n\\nThe crossing from Gaza into Egypt remained partially open Monday and was overwhelmed with people trying to flee. Internet lines were severed, electricity was sporadic, water tanks were running dry.\\n\\nMost of Gaza’s fresh fruit and vegetables come from the farms along its border with Israel. With an invasion, those fields will become a war zone.\\n\\nOrdinary people said they were dreading what comes next — in part because it remains unclear what Hamas wants. Spokesmen for the group have issued vague statements calling for the release of all Palestinian prisoners held by Israel.\\n\\nThe presence of both civilian and military hostages in Gaza greatly complicates matters.\\n\\nThe most high-profile previous hostage was snatched in a cross-border raid in 2006: the soldier Gilad Shalit, who was released after five years, when Israel agreed to free 1,000 Palestinian prisoners.\\n\\nAdvertisement\\n\\nHamas remained defiant. Spokesman Abdul Latif al-Qanu accused Israel of committing crimes against humanity by killing civilians and said the international community has double standards when it comes to Palestinian deaths.\\n\\n“The criminal Zionist entity is trying, through the war crimes it’s committing, to rebuild its army’s spirits and its broken soldiers and to snatch the fake image after the elite Qassam’s strikes and its killing and capture of [Israel’s] army and settler herds,” he said in a statement published on the group’s Telegram channel.\\n\\nIsrael also faces threats from the north. Israeli soldiers killed two of five militants who crossed into Israel from Lebanon on Monday, the army spokesman announced. There was no word on the fate of the other three.\\n\\nIsraeli helicopter gunships were deployed to Lebanese territory, Rear Adm. Daniel Hagari, an IDF spokesman, said on X, formerly Twitter. The military reported destroying a position manned by the Lebanese militant group Hezbollah. The Hezbollah-linked al-Manar channel reported that an empty home was hit.\\n\\n“We have nothing to do with this,” a Hezbollah spokesperson told The Washington Post via Telegram. “It’s not us. And we don’t know if there was an infiltration or not.”\\n\\nAdvertisement\\n\\nThe armed wing of Palestinian Islamic Jihad, a group active in Lebanon, Gaza and the West Bank, claimed responsibility for the attack in northern Israel on Monday. Hezbollah later confirmed that three of its members were killed by the shelling and fired a salvo of rockets toward northern Israel in response.\\n\\nThe incidents raised fears of a wider escalation. Israel fought a war with the militant group in 2006 that killed more than 1,000 people.'"
            ],
            "application/vnd.google.colaboratory.intrinsic+json": {
              "type": "string"
            }
          },
          "metadata": {},
          "execution_count": 49
        }
      ]
    },
    {
      "cell_type": "code",
      "source": [],
      "metadata": {
        "id": "QyCn_srAb26J"
      },
      "execution_count": null,
      "outputs": []
    }
  ]
}