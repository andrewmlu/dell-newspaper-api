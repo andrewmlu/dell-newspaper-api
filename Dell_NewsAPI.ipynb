{
  "nbformat": 4,
  "nbformat_minor": 0,
  "metadata": {
    "colab": {
      "provenance": [],
      "authorship_tag": "ABX9TyOJkR4baNST1azZ6gQcnS6N",
      "include_colab_link": true
    },
    "kernelspec": {
      "name": "python3",
      "display_name": "Python 3"
    },
    "language_info": {
      "name": "python"
    }
  },
  "cells": [
    {
      "cell_type": "markdown",
      "metadata": {
        "id": "view-in-github",
        "colab_type": "text"
      },
      "source": [
        "<a href=\"https://colab.research.google.com/github/andrewmlu/dell-newspaper-api/blob/main/Dell_NewsAPI.ipynb\" target=\"_parent\"><img src=\"https://colab.research.google.com/assets/colab-badge.svg\" alt=\"Open In Colab\"/></a>"
      ]
    },
    {
      "cell_type": "code",
      "execution_count": 1,
      "metadata": {
        "colab": {
          "base_uri": "https://localhost:8080/"
        },
        "id": "q3DNnLkBEKSh",
        "outputId": "13bc32ed-6cbe-4a9b-b16d-8b3c519ab033"
      },
      "outputs": [
        {
          "output_type": "stream",
          "name": "stdout",
          "text": [
            "Collecting newsapi-python\n",
            "  Downloading newsapi_python-0.2.7-py2.py3-none-any.whl (7.9 kB)\n",
            "Requirement already satisfied: requests<3.0.0 in /usr/local/lib/python3.10/dist-packages (from newsapi-python) (2.31.0)\n",
            "Requirement already satisfied: charset-normalizer<4,>=2 in /usr/local/lib/python3.10/dist-packages (from requests<3.0.0->newsapi-python) (3.3.1)\n",
            "Requirement already satisfied: idna<4,>=2.5 in /usr/local/lib/python3.10/dist-packages (from requests<3.0.0->newsapi-python) (3.4)\n",
            "Requirement already satisfied: urllib3<3,>=1.21.1 in /usr/local/lib/python3.10/dist-packages (from requests<3.0.0->newsapi-python) (2.0.7)\n",
            "Requirement already satisfied: certifi>=2017.4.17 in /usr/local/lib/python3.10/dist-packages (from requests<3.0.0->newsapi-python) (2023.7.22)\n",
            "Installing collected packages: newsapi-python\n",
            "Successfully installed newsapi-python-0.2.7\n",
            "Collecting newspaper3k\n",
            "  Downloading newspaper3k-0.2.8-py3-none-any.whl (211 kB)\n",
            "\u001b[2K     \u001b[90m━━━━━━━━━━━━━━━━━━━━━━━━━━━━━━━━━━━━━━━━\u001b[0m \u001b[32m211.1/211.1 kB\u001b[0m \u001b[31m4.0 MB/s\u001b[0m eta \u001b[36m0:00:00\u001b[0m\n",
            "\u001b[?25hRequirement already satisfied: beautifulsoup4>=4.4.1 in /usr/local/lib/python3.10/dist-packages (from newspaper3k) (4.11.2)\n",
            "Requirement already satisfied: Pillow>=3.3.0 in /usr/local/lib/python3.10/dist-packages (from newspaper3k) (9.4.0)\n",
            "Requirement already satisfied: PyYAML>=3.11 in /usr/local/lib/python3.10/dist-packages (from newspaper3k) (6.0.1)\n",
            "Collecting cssselect>=0.9.2 (from newspaper3k)\n",
            "  Downloading cssselect-1.2.0-py2.py3-none-any.whl (18 kB)\n",
            "Requirement already satisfied: lxml>=3.6.0 in /usr/local/lib/python3.10/dist-packages (from newspaper3k) (4.9.3)\n",
            "Requirement already satisfied: nltk>=3.2.1 in /usr/local/lib/python3.10/dist-packages (from newspaper3k) (3.8.1)\n",
            "Requirement already satisfied: requests>=2.10.0 in /usr/local/lib/python3.10/dist-packages (from newspaper3k) (2.31.0)\n",
            "Collecting feedparser>=5.2.1 (from newspaper3k)\n",
            "  Downloading feedparser-6.0.10-py3-none-any.whl (81 kB)\n",
            "\u001b[2K     \u001b[90m━━━━━━━━━━━━━━━━━━━━━━━━━━━━━━━━━━━━━━━━\u001b[0m \u001b[32m81.1/81.1 kB\u001b[0m \u001b[31m8.5 MB/s\u001b[0m eta \u001b[36m0:00:00\u001b[0m\n",
            "\u001b[?25hCollecting tldextract>=2.0.1 (from newspaper3k)\n",
            "  Downloading tldextract-5.0.1-py3-none-any.whl (97 kB)\n",
            "\u001b[2K     \u001b[90m━━━━━━━━━━━━━━━━━━━━━━━━━━━━━━━━━━━━━━━━\u001b[0m \u001b[32m97.1/97.1 kB\u001b[0m \u001b[31m12.0 MB/s\u001b[0m eta \u001b[36m0:00:00\u001b[0m\n",
            "\u001b[?25hCollecting feedfinder2>=0.0.4 (from newspaper3k)\n",
            "  Downloading feedfinder2-0.0.4.tar.gz (3.3 kB)\n",
            "  Preparing metadata (setup.py) ... \u001b[?25l\u001b[?25hdone\n",
            "Collecting jieba3k>=0.35.1 (from newspaper3k)\n",
            "  Downloading jieba3k-0.35.1.zip (7.4 MB)\n",
            "\u001b[2K     \u001b[90m━━━━━━━━━━━━━━━━━━━━━━━━━━━━━━━━━━━━━━━━\u001b[0m \u001b[32m7.4/7.4 MB\u001b[0m \u001b[31m71.6 MB/s\u001b[0m eta \u001b[36m0:00:00\u001b[0m\n",
            "\u001b[?25h  Preparing metadata (setup.py) ... \u001b[?25l\u001b[?25hdone\n",
            "Requirement already satisfied: python-dateutil>=2.5.3 in /usr/local/lib/python3.10/dist-packages (from newspaper3k) (2.8.2)\n",
            "Collecting tinysegmenter==0.3 (from newspaper3k)\n",
            "  Downloading tinysegmenter-0.3.tar.gz (16 kB)\n",
            "  Preparing metadata (setup.py) ... \u001b[?25l\u001b[?25hdone\n",
            "Requirement already satisfied: soupsieve>1.2 in /usr/local/lib/python3.10/dist-packages (from beautifulsoup4>=4.4.1->newspaper3k) (2.5)\n",
            "Requirement already satisfied: six in /usr/local/lib/python3.10/dist-packages (from feedfinder2>=0.0.4->newspaper3k) (1.16.0)\n",
            "Collecting sgmllib3k (from feedparser>=5.2.1->newspaper3k)\n",
            "  Downloading sgmllib3k-1.0.0.tar.gz (5.8 kB)\n",
            "  Preparing metadata (setup.py) ... \u001b[?25l\u001b[?25hdone\n",
            "Requirement already satisfied: click in /usr/local/lib/python3.10/dist-packages (from nltk>=3.2.1->newspaper3k) (8.1.7)\n",
            "Requirement already satisfied: joblib in /usr/local/lib/python3.10/dist-packages (from nltk>=3.2.1->newspaper3k) (1.3.2)\n",
            "Requirement already satisfied: regex>=2021.8.3 in /usr/local/lib/python3.10/dist-packages (from nltk>=3.2.1->newspaper3k) (2023.6.3)\n",
            "Requirement already satisfied: tqdm in /usr/local/lib/python3.10/dist-packages (from nltk>=3.2.1->newspaper3k) (4.66.1)\n",
            "Requirement already satisfied: charset-normalizer<4,>=2 in /usr/local/lib/python3.10/dist-packages (from requests>=2.10.0->newspaper3k) (3.3.1)\n",
            "Requirement already satisfied: idna<4,>=2.5 in /usr/local/lib/python3.10/dist-packages (from requests>=2.10.0->newspaper3k) (3.4)\n",
            "Requirement already satisfied: urllib3<3,>=1.21.1 in /usr/local/lib/python3.10/dist-packages (from requests>=2.10.0->newspaper3k) (2.0.7)\n",
            "Requirement already satisfied: certifi>=2017.4.17 in /usr/local/lib/python3.10/dist-packages (from requests>=2.10.0->newspaper3k) (2023.7.22)\n",
            "Collecting requests-file>=1.4 (from tldextract>=2.0.1->newspaper3k)\n",
            "  Downloading requests_file-1.5.1-py2.py3-none-any.whl (3.7 kB)\n",
            "Requirement already satisfied: filelock>=3.0.8 in /usr/local/lib/python3.10/dist-packages (from tldextract>=2.0.1->newspaper3k) (3.12.4)\n",
            "Building wheels for collected packages: tinysegmenter, feedfinder2, jieba3k, sgmllib3k\n",
            "  Building wheel for tinysegmenter (setup.py) ... \u001b[?25l\u001b[?25hdone\n",
            "  Created wheel for tinysegmenter: filename=tinysegmenter-0.3-py3-none-any.whl size=13541 sha256=7dd0b754b433d72a33f2fc57ddee0cfda9a7614cad19721dbef04591ce1e740c\n",
            "  Stored in directory: /root/.cache/pip/wheels/c8/d6/6c/384f58df48c00b9a31d638005143b5b3ac62c3d25fb1447f23\n",
            "  Building wheel for feedfinder2 (setup.py) ... \u001b[?25l\u001b[?25hdone\n",
            "  Created wheel for feedfinder2: filename=feedfinder2-0.0.4-py3-none-any.whl size=3339 sha256=42503a13681236aa228407dd86a7a70f7730c2349ef971418a9e54056b852212\n",
            "  Stored in directory: /root/.cache/pip/wheels/97/02/e7/a1ff1760e12bdbaab0ac824fae5c1bc933e41c4ccd6a8f8edb\n",
            "  Building wheel for jieba3k (setup.py) ... \u001b[?25l\u001b[?25hdone\n",
            "  Created wheel for jieba3k: filename=jieba3k-0.35.1-py3-none-any.whl size=7398380 sha256=447b6b0ad0155e6d36091c95fa3eb18d395848426b664695d6c0090526b01550\n",
            "  Stored in directory: /root/.cache/pip/wheels/7a/c4/0c/12a9a314ecac499456c4c3b2fcc2f635a3b45a39dfbd240299\n",
            "  Building wheel for sgmllib3k (setup.py) ... \u001b[?25l\u001b[?25hdone\n",
            "  Created wheel for sgmllib3k: filename=sgmllib3k-1.0.0-py3-none-any.whl size=6047 sha256=40f6c59f9fe4764210abd56aec2331dccd22dc7c137e6f3a0a3d300e2d1e60ae\n",
            "  Stored in directory: /root/.cache/pip/wheels/f0/69/93/a47e9d621be168e9e33c7ce60524393c0b92ae83cf6c6e89c5\n",
            "Successfully built tinysegmenter feedfinder2 jieba3k sgmllib3k\n",
            "Installing collected packages: tinysegmenter, sgmllib3k, jieba3k, feedparser, cssselect, requests-file, feedfinder2, tldextract, newspaper3k\n",
            "Successfully installed cssselect-1.2.0 feedfinder2-0.0.4 feedparser-6.0.10 jieba3k-0.35.1 newspaper3k-0.2.8 requests-file-1.5.1 sgmllib3k-1.0.0 tinysegmenter-0.3 tldextract-5.0.1\n"
          ]
        }
      ],
      "source": [
        "!pip install newsapi-python\n",
        "!pip3 install newspaper3k"
      ]
    },
    {
      "cell_type": "code",
      "source": [
        "from newsapi import NewsApiClient\n",
        "import newspaper\n",
        "\n",
        "# free account -- don't worry about API key haha\n",
        "newsapi = NewsApiClient(api_key='6c34b8a2b3e94334bb0ce0ce92d24939')"
      ],
      "metadata": {
        "id": "9GK2fgYDEMgW"
      },
      "execution_count": 2,
      "outputs": []
    },
    {
      "cell_type": "code",
      "source": [
        "# /v2/top-headlines\n",
        "top_headlines = newsapi.get_top_headlines(sources=\"the-washington-post\", page_size=10)\n",
        "\n",
        "print(top_headlines)"
      ],
      "metadata": {
        "id": "Fy1L70QXY39e",
        "colab": {
          "base_uri": "https://localhost:8080/"
        },
        "outputId": "b0a69677-d243-4055-eb95-ad625ce316c9"
      },
      "execution_count": 65,
      "outputs": [
        {
          "output_type": "stream",
          "name": "stdout",
          "text": [
            "{'status': 'ok', 'totalResults': 10, 'articles': [{'source': {'id': 'the-washington-post', 'name': 'The Washington Post'}, 'author': 'Martin Weil', 'title': 'Washington region’s heat ties one record, comes near others', 'description': 'The D.C. high of 82 degrees was 17 above the Oct. 27 average, but autumn remained evident in other ways.', 'url': 'https://www.washingtonpost.com/dc-md-va/2023/10/27/heat-temperature-record-dc-baltimore/', 'urlToImage': 'https://www.washingtonpost.com/wp-apps/imrs.php?src=https://arc-anglerfish-washpost-prod-washpost.s3.amazonaws.com/public/ZN5F52A6XJUDPFPZCBSKKGCAPQ_size-normalized.jpg&w=1440', 'publishedAt': '2023-10-28T01:45:16Z', 'content': 'Comment on this story\\r\\nComment\\r\\nAdd to your saved stories\\r\\nSave\\r\\nSomething was obviously in the October air Friday in the Washington, D.C., region, and that was warmth, which matched a record in one … [+1388 chars]'}, {'source': {'id': 'the-washington-post', 'name': 'The Washington Post'}, 'author': 'Hannah Allam, Michelle Boorstein', 'title': 'White House scrambles to repair relations with Arab, Muslim Americans', 'description': 'The president’s comment that he has “no confidence” in the civilian death toll in Gaza provided by Palestinians incensed community leaders.', 'url': 'https://www.washingtonpost.com/politics/2023/10/27/biden-israel-palestine-muslim-americans-war/', 'urlToImage': 'https://www.washingtonpost.com/wp-apps/imrs.php?src=https://arc-anglerfish-washpost-prod-washpost.s3.amazonaws.com/public/ZJ774RCYXESDW2MIUWDT5DUWWE_size-normalized.jpg&w=1440', 'publishedAt': '2023-10-28T01:15:39Z', 'content': 'Comment on this story\\r\\nComment\\r\\nAdd to your saved stories\\r\\nSave\\r\\nOne ripple effect of the Israel-Gaza war is the warp-speed unraveling of relations between President Biden and some of his most loyal … [+14420 chars]'}, {'source': {'id': 'the-washington-post', 'name': 'The Washington Post'}, 'author': 'Karen DeYoung, Claire Parker', 'title': 'U.S., in policy switch, urges humanitarian pauses in Gaza', 'description': 'After weeks of declining to back international calls for “humanitarian pauses” in Israeli airstrikes, the Biden administration is now pressing Israel to agree.', 'url': 'https://www.washingtonpost.com/national-security/2023/10/27/gaza-israel-humanitarian-pause/', 'urlToImage': 'https://www.washingtonpost.com/wp-apps/imrs.php?src=https://arc-anglerfish-washpost-prod-washpost.s3.amazonaws.com/public/4KKOP45U6DT5QLLGQTVRCPP5FA_size-normalized.jpg&w=1440', 'publishedAt': '2023-10-28T00:21:47Z', 'content': 'Comment on this story\\r\\nComment\\r\\nAdd to your saved stories\\r\\nSave\\r\\nAfter weeks of declining to back growing international calls for humanitarian pauses in Israeli airstrikes to allow a steady flow of a… [+11214 chars]'}, {'source': {'id': 'the-washington-post', 'name': 'The Washington Post'}, 'author': 'Scott Allen, Adam Kilgore, Chelsea Janes', 'title': 'World Series live updates: Surprising Diamondbacks face the Rangers in Game 1', 'description': 'The Texas Rangers host the Arizona Diamondbacks in Game 1 of the World Series on Friday night.', 'url': 'https://www.washingtonpost.com/sports/2023/10/27/world-series-diamondbacks-rangers-game-score/', 'urlToImage': 'https://www.washingtonpost.com/wp-apps/imrs.php?src=https://arc-anglerfish-washpost-prod-washpost.s3.amazonaws.com/public/PNOTK2LLRE6FOUMQZWUKFARVCI_size-normalized.jpg&w=1440', 'publishedAt': '2023-10-27T23:30:06Z', 'content': 'On Friday night, the Texas Rangers and Arizona Diamondbacks begin a World Series that could be sponsored by Butch and Sundance: Who are those guys? The Rangers rebuilt themselves with free agent spla… [+283 chars]'}, {'source': {'id': 'the-washington-post', 'name': 'The Washington Post'}, 'author': 'Yasmeen Abutaleb, John Hudson, Dan Lamothe', 'title': 'U.S. urges Israel against Gaza ground invasion, pushes surgical campaign', 'description': 'Washington’s advice to mount ‘surgical’ operations instead contrasts with the public U.S. backing of an Israeli military campaign', 'url': 'https://www.washingtonpost.com/politics/2023/10/27/us-urging-israel-rethinkg-gaza-ground-invasion/', 'urlToImage': 'https://www.washingtonpost.com/wp-apps/imrs.php?src=https://arc-anglerfish-washpost-prod-washpost.s3.amazonaws.com/public/HN6VZWBHAZUS3ZYAV47FWJNPFM_size-normalized.jpg&w=1440', 'publishedAt': '2023-10-27T18:32:29Z', 'content': 'Comment on this story\\r\\nComment\\r\\nAdd to your saved stories\\r\\nSave\\r\\nThe Biden administration is urging Israel to rethink its plans for a major ground offensive in the Gaza Strip and instead to opt for a… [+12171 chars]'}, {'source': {'id': 'the-washington-post', 'name': 'The Washington Post'}, 'author': 'Shira Rubin, Loveday Morris', 'title': 'How Hamas broke through Israel’s border defenses during Oct. 7 attack', 'description': 'Hamas systematically disabled key communications and warning systems on Oct. 7, allowing gunmen to overwhelm Israeli military bases and kill soldiers in their bunks.', 'url': 'https://www.washingtonpost.com/world/2023/10/27/hamas-attack-israel-october-7-hostages/', 'urlToImage': 'https://www.washingtonpost.com/wp-apps/imrs.php?src=https://arc-anglerfish-washpost-prod-washpost.s3.amazonaws.com/public/VBD6LRGI7OA7GJHZRQTBR2SGA4_size-normalized.JPG&w=1440', 'publishedAt': '2023-10-27T16:19:27Z', 'content': 'Comment on this story\\r\\nComment\\r\\nAdd to your saved stories\\r\\nSave\\r\\nKISSUFIM, Israel When Hamas militants arrived in the tiny kibbutz of Kissufim, less than a mile from the border with the Gaza Strip, t… [+13939 chars]'}, {'source': {'id': 'the-washington-post', 'name': 'The Washington Post'}, 'author': 'Emily Wax-Thibodeaux, Devlin Barrett, Danielle Paquette, Frances Vinall, Amber Ferguson, Keith McMillan, Tom Bell, Maegan Vazquez, Salwan Georges, Dan Rosenzweig-Ziff, Kevin Sullivan, Robert Klemko, Mark Berman, Kelly Kasulis Cho, Annabelle Timsit, Timothy Bella, Maham Javaid, Grace Moon, Dan Lamothe, Justine McDaniel, Nick Parker, Laris Karklis, Azi Paybarah, News Services and Staff Reports, Amanda Morris, Perry Stein, Alex Horton', 'title': 'Maine shooting live updates: Suspect found dead, sheriff confirms', 'description': 'Earlier in the day, police said they’d recovered the cellphone of Robert Card, the suspect believed responsible for 18 deaths and 13 injuries, and lifted shelter-in-place orders.', 'url': 'https://www.washingtonpost.com/nation/2023/10/27/maine-shooting-suspect-victims-updates/', 'urlToImage': 'https://www.washingtonpost.com/wp-apps/imrs.php?src=https://arc-anglerfish-washpost-prod-washpost.s3.amazonaws.com/public/MZXHJ2MN6YY47RFTLBCQWYZUPI.JPG&w=1440', 'publishedAt': '2023-10-27T12:56:01Z', 'content': 'The Washington Post\\r\\nDemocracy Dies in Darkness\\r\\nAdd to your saved stories\\r\\nSave\\r\\nRobert Card, the 40-year-old suspect in the countrys deadliest mass killing of the year, has been found dead, the And… [+506 chars]'}, {'source': {'id': 'the-washington-post', 'name': 'The Washington Post'}, 'author': 'Will Oremus, Elizabeth Dwoskin, Sarah Ellison, Jeremy B. Merrill', 'title': 'A year later, Musk’s X is tilting right. And sinking.', 'description': 'The billionaire bought Twitter to revive its business and make it less “woke.” He has achieved only one of those goals.', 'url': 'https://www.washingtonpost.com/technology/2023/10/27/elon-musk-twitter-x-anniversary/', 'urlToImage': 'https://www.washingtonpost.com/wp-apps/imrs.php?src=https://arc-anglerfish-washpost-prod-washpost.s3.amazonaws.com/public/KZ2T5DTBS5GG7KZEMAVQ4SVO4E.jpg&w=1440', 'publishedAt': '2023-10-27T10:00:00Z', 'content': 'Comment on this story\\r\\nComment\\r\\nAdd to your saved stories\\r\\nSave\\r\\nOne year after billionaire Elon Musk bought Twitter for $44 billion, aiming to rid it of a woke mind virus that he believed was suppre… [+12028 chars]'}, {'source': {'id': 'the-washington-post', 'name': 'The Washington Post'}, 'author': 'Andrew Jeong, Kelsey Ables, Victoria Bisset, Ellen Francis, Cate Brown, Carrie Keller-Lynn, Alex Horton, Evan Hill, Meg Kelly, Imogen Piper, Janice Kai Chen, Júlia Ledur, Emily M. Eng, Dan Rosenzweig-Ziff, Ishaan Tharoor, Mary Ilyushina, Missy Ryan, Jeff Stein', 'title': 'Israel-Gaza war live updates: U.S. hits Iran-linked sites in Syria; Egypt says drone hits border town', 'description': 'The United States said it hit two sites used by Iran’s Islamic Revolutionary Guard Corps and others, after 21 American personnel in the Middle East were injured.', 'url': 'https://www.washingtonpost.com/world/2023/10/27/israel-war-hamas-gaza-news-palestine/', 'urlToImage': 'https://www.washingtonpost.com/wp-apps/imrs.php?src=https://arc-anglerfish-washpost-prod-washpost.s3.amazonaws.com/public/2AP23QDBFEB5YFNUTXNETDXZMA_size-normalized.jpg&w=1440', 'publishedAt': '2023-10-27T06:07:17Z', 'content': None}, {'source': {'id': 'the-washington-post', 'name': 'The Washington Post'}, 'author': 'Bryan Pietsch', 'title': 'Hamas tunnels under Gaza stretch miles, holding hostages and weapons', 'description': 'Far below densely populated neighborhoods, a network of tunnels poses a distinct challenge to any large-scale Israeli ground operation to strike at Hamas.', 'url': 'https://www.washingtonpost.com/world/2023/10/25/hamas-gaza-tunnels/', 'urlToImage': 'https://www.washingtonpost.com/wp-apps/imrs.php?src=https://arc-anglerfish-washpost-prod-washpost.s3.amazonaws.com/public/32T65DA36II6JK33NFWCSXO72E&w=1440', 'publishedAt': '2023-10-25T21:00:29Z', 'content': 'Return to menuCombat inside tunnels is incredibly difficult, Luttwak said, noting that it requires a specific skill set and that standard tactics and weaponry are often not suitable inside a subterra… [+1798 chars]'}]}\n"
          ]
        }
      ]
    },
    {
      "cell_type": "code",
      "source": [
        "# sources = newsapi.get_sources()\n",
        "# sources\n",
        "\n",
        "# # /v2/everything\n",
        "# article = newsapi.get_everything(q='Comment on this story\\r\\nComment\\r\\nRep. Kevin McCarthy (R-Calif.) said Monday that he is willing to resume serving as House speaker if enough of the Republicans who voted in favor of his ouster last')\n",
        "\n",
        "# /v2/top-headlines/sources\n",
        "# sources = newsapi.get_sources()"
      ],
      "metadata": {
        "id": "nfmkTqPiGa02"
      },
      "execution_count": 4,
      "outputs": []
    },
    {
      "cell_type": "code",
      "source": [
        "top_headlines_list = list(top_headlines.items())[2][1]"
      ],
      "metadata": {
        "id": "otN_F-5YEQ9k"
      },
      "execution_count": 66,
      "outputs": []
    },
    {
      "cell_type": "code",
      "source": [
        "def extract_data_from_url(url):\n",
        "  article = newspaper.Article(url)\n",
        "  # article.html\n",
        "  article.download()\n",
        "  article.parse()\n",
        "  return {'text': article.text, 'title': article.title, 'authors': article.authors, 'date': article.publish_date, 'html': article.html}"
      ],
      "metadata": {
        "id": "4JdU_NMZZGb_"
      },
      "execution_count": 67,
      "outputs": []
    },
    {
      "cell_type": "code",
      "source": [
        "import re\n",
        "def extract_from_first_caps(text):\n",
        "    # Regular expression to match a word that's all caps after a newline\n",
        "    pattern = r'(?<=\\n\\n)\\b([A-Z]{2,})\\b'\n",
        "\n",
        "    # Find all all-caps words\n",
        "    matches = re.findall(pattern, text)\n",
        "\n",
        "    # If no matches, return None\n",
        "    if not matches:\n",
        "        return None\n",
        "\n",
        "    # Find the position of the first all-caps word after a newline and extract from that position till the end\n",
        "    start_pos = text.find(matches[0])\n",
        "\n",
        "    return text[start_pos:]\n",
        "\n",
        "def extract_after_double_newline(text):\n",
        "    # Split the text at the first occurrence of \\n\\n\n",
        "    parts = text.split('\\n\\n', 1)\n",
        "\n",
        "    # If there's a second part after splitting, return it\n",
        "    if len(parts) > 1:\n",
        "        return parts[1]\n",
        "    else:\n",
        "        return None\n",
        "\n",
        "def remove_ads(text):\n",
        "  return text.replace(\"Advertisement\\n\\n\", \"\")\n",
        "\n",
        "def remove_double_spaces(text):\n",
        "  return re.sub(r' +', ' ', text)"
      ],
      "metadata": {
        "id": "sLSX-pjbHTz7"
      },
      "execution_count": 68,
      "outputs": []
    },
    {
      "cell_type": "code",
      "source": [
        "top_headlines_list"
      ],
      "metadata": {
        "colab": {
          "base_uri": "https://localhost:8080/"
        },
        "id": "pHrIWAStFaq9",
        "outputId": "9ff599ec-c27a-4237-8240-3b0733b0450c"
      },
      "execution_count": 69,
      "outputs": [
        {
          "output_type": "execute_result",
          "data": {
            "text/plain": [
              "[{'source': {'id': 'the-washington-post', 'name': 'The Washington Post'},\n",
              "  'author': 'Martin Weil',\n",
              "  'title': 'Washington region’s heat ties one record, comes near others',\n",
              "  'description': 'The D.C. high of 82 degrees was 17 above the Oct. 27 average, but autumn remained evident in other ways.',\n",
              "  'url': 'https://www.washingtonpost.com/dc-md-va/2023/10/27/heat-temperature-record-dc-baltimore/',\n",
              "  'urlToImage': 'https://www.washingtonpost.com/wp-apps/imrs.php?src=https://arc-anglerfish-washpost-prod-washpost.s3.amazonaws.com/public/ZN5F52A6XJUDPFPZCBSKKGCAPQ_size-normalized.jpg&w=1440',\n",
              "  'publishedAt': '2023-10-28T01:45:16Z',\n",
              "  'content': 'Comment on this story\\r\\nComment\\r\\nAdd to your saved stories\\r\\nSave\\r\\nSomething was obviously in the October air Friday in the Washington, D.C., region, and that was warmth, which matched a record in one … [+1388 chars]'},\n",
              " {'source': {'id': 'the-washington-post', 'name': 'The Washington Post'},\n",
              "  'author': 'Hannah Allam, Michelle Boorstein',\n",
              "  'title': 'White House scrambles to repair relations with Arab, Muslim Americans',\n",
              "  'description': 'The president’s comment that he has “no confidence” in the civilian death toll in Gaza provided by Palestinians incensed community leaders.',\n",
              "  'url': 'https://www.washingtonpost.com/politics/2023/10/27/biden-israel-palestine-muslim-americans-war/',\n",
              "  'urlToImage': 'https://www.washingtonpost.com/wp-apps/imrs.php?src=https://arc-anglerfish-washpost-prod-washpost.s3.amazonaws.com/public/ZJ774RCYXESDW2MIUWDT5DUWWE_size-normalized.jpg&w=1440',\n",
              "  'publishedAt': '2023-10-28T01:15:39Z',\n",
              "  'content': 'Comment on this story\\r\\nComment\\r\\nAdd to your saved stories\\r\\nSave\\r\\nOne ripple effect of the Israel-Gaza war is the warp-speed unraveling of relations between President Biden and some of his most loyal … [+14420 chars]'},\n",
              " {'source': {'id': 'the-washington-post', 'name': 'The Washington Post'},\n",
              "  'author': 'Karen DeYoung, Claire Parker',\n",
              "  'title': 'U.S., in policy switch, urges humanitarian pauses in Gaza',\n",
              "  'description': 'After weeks of declining to back international calls for “humanitarian pauses” in Israeli airstrikes, the Biden administration is now pressing Israel to agree.',\n",
              "  'url': 'https://www.washingtonpost.com/national-security/2023/10/27/gaza-israel-humanitarian-pause/',\n",
              "  'urlToImage': 'https://www.washingtonpost.com/wp-apps/imrs.php?src=https://arc-anglerfish-washpost-prod-washpost.s3.amazonaws.com/public/4KKOP45U6DT5QLLGQTVRCPP5FA_size-normalized.jpg&w=1440',\n",
              "  'publishedAt': '2023-10-28T00:21:47Z',\n",
              "  'content': 'Comment on this story\\r\\nComment\\r\\nAdd to your saved stories\\r\\nSave\\r\\nAfter weeks of declining to back growing international calls for humanitarian pauses in Israeli airstrikes to allow a steady flow of a… [+11214 chars]'},\n",
              " {'source': {'id': 'the-washington-post', 'name': 'The Washington Post'},\n",
              "  'author': 'Scott Allen, Adam Kilgore, Chelsea Janes',\n",
              "  'title': 'World Series live updates: Surprising Diamondbacks face the Rangers in Game 1',\n",
              "  'description': 'The Texas Rangers host the Arizona Diamondbacks in Game 1 of the World Series on Friday night.',\n",
              "  'url': 'https://www.washingtonpost.com/sports/2023/10/27/world-series-diamondbacks-rangers-game-score/',\n",
              "  'urlToImage': 'https://www.washingtonpost.com/wp-apps/imrs.php?src=https://arc-anglerfish-washpost-prod-washpost.s3.amazonaws.com/public/PNOTK2LLRE6FOUMQZWUKFARVCI_size-normalized.jpg&w=1440',\n",
              "  'publishedAt': '2023-10-27T23:30:06Z',\n",
              "  'content': 'On Friday night, the Texas Rangers and Arizona Diamondbacks begin a World Series that could be sponsored by Butch and Sundance: Who are those guys? The Rangers rebuilt themselves with free agent spla… [+283 chars]'},\n",
              " {'source': {'id': 'the-washington-post', 'name': 'The Washington Post'},\n",
              "  'author': 'Yasmeen Abutaleb, John Hudson, Dan Lamothe',\n",
              "  'title': 'U.S. urges Israel against Gaza ground invasion, pushes surgical campaign',\n",
              "  'description': 'Washington’s advice to mount ‘surgical’ operations instead contrasts with the public U.S. backing of an Israeli military campaign',\n",
              "  'url': 'https://www.washingtonpost.com/politics/2023/10/27/us-urging-israel-rethinkg-gaza-ground-invasion/',\n",
              "  'urlToImage': 'https://www.washingtonpost.com/wp-apps/imrs.php?src=https://arc-anglerfish-washpost-prod-washpost.s3.amazonaws.com/public/HN6VZWBHAZUS3ZYAV47FWJNPFM_size-normalized.jpg&w=1440',\n",
              "  'publishedAt': '2023-10-27T18:32:29Z',\n",
              "  'content': 'Comment on this story\\r\\nComment\\r\\nAdd to your saved stories\\r\\nSave\\r\\nThe Biden administration is urging Israel to rethink its plans for a major ground offensive in the Gaza Strip and instead to opt for a… [+12171 chars]'},\n",
              " {'source': {'id': 'the-washington-post', 'name': 'The Washington Post'},\n",
              "  'author': 'Shira Rubin, Loveday Morris',\n",
              "  'title': 'How Hamas broke through Israel’s border defenses during Oct. 7 attack',\n",
              "  'description': 'Hamas systematically disabled key communications and warning systems on Oct. 7, allowing gunmen to overwhelm Israeli military bases and kill soldiers in their bunks.',\n",
              "  'url': 'https://www.washingtonpost.com/world/2023/10/27/hamas-attack-israel-october-7-hostages/',\n",
              "  'urlToImage': 'https://www.washingtonpost.com/wp-apps/imrs.php?src=https://arc-anglerfish-washpost-prod-washpost.s3.amazonaws.com/public/VBD6LRGI7OA7GJHZRQTBR2SGA4_size-normalized.JPG&w=1440',\n",
              "  'publishedAt': '2023-10-27T16:19:27Z',\n",
              "  'content': 'Comment on this story\\r\\nComment\\r\\nAdd to your saved stories\\r\\nSave\\r\\nKISSUFIM, Israel When Hamas militants arrived in the tiny kibbutz of Kissufim, less than a mile from the border with the Gaza Strip, t… [+13939 chars]'},\n",
              " {'source': {'id': 'the-washington-post', 'name': 'The Washington Post'},\n",
              "  'author': 'Emily Wax-Thibodeaux, Devlin Barrett, Danielle Paquette, Frances Vinall, Amber Ferguson, Keith McMillan, Tom Bell, Maegan Vazquez, Salwan Georges, Dan Rosenzweig-Ziff, Kevin Sullivan, Robert Klemko, Mark Berman, Kelly Kasulis Cho, Annabelle Timsit, Timothy Bella, Maham Javaid, Grace Moon, Dan Lamothe, Justine McDaniel, Nick Parker, Laris Karklis, Azi Paybarah, News Services and Staff Reports, Amanda Morris, Perry Stein, Alex Horton',\n",
              "  'title': 'Maine shooting live updates: Suspect found dead, sheriff confirms',\n",
              "  'description': 'Earlier in the day, police said they’d recovered the cellphone of Robert Card, the suspect believed responsible for 18 deaths and 13 injuries, and lifted shelter-in-place orders.',\n",
              "  'url': 'https://www.washingtonpost.com/nation/2023/10/27/maine-shooting-suspect-victims-updates/',\n",
              "  'urlToImage': 'https://www.washingtonpost.com/wp-apps/imrs.php?src=https://arc-anglerfish-washpost-prod-washpost.s3.amazonaws.com/public/MZXHJ2MN6YY47RFTLBCQWYZUPI.JPG&w=1440',\n",
              "  'publishedAt': '2023-10-27T12:56:01Z',\n",
              "  'content': 'The Washington Post\\r\\nDemocracy Dies in Darkness\\r\\nAdd to your saved stories\\r\\nSave\\r\\nRobert Card, the 40-year-old suspect in the countrys deadliest mass killing of the year, has been found dead, the And… [+506 chars]'},\n",
              " {'source': {'id': 'the-washington-post', 'name': 'The Washington Post'},\n",
              "  'author': 'Will Oremus, Elizabeth Dwoskin, Sarah Ellison, Jeremy B. Merrill',\n",
              "  'title': 'A year later, Musk’s X is tilting right. And sinking.',\n",
              "  'description': 'The billionaire bought Twitter to revive its business and make it less “woke.” He has achieved only one of those goals.',\n",
              "  'url': 'https://www.washingtonpost.com/technology/2023/10/27/elon-musk-twitter-x-anniversary/',\n",
              "  'urlToImage': 'https://www.washingtonpost.com/wp-apps/imrs.php?src=https://arc-anglerfish-washpost-prod-washpost.s3.amazonaws.com/public/KZ2T5DTBS5GG7KZEMAVQ4SVO4E.jpg&w=1440',\n",
              "  'publishedAt': '2023-10-27T10:00:00Z',\n",
              "  'content': 'Comment on this story\\r\\nComment\\r\\nAdd to your saved stories\\r\\nSave\\r\\nOne year after billionaire Elon Musk bought Twitter for $44 billion, aiming to rid it of a woke mind virus that he believed was suppre… [+12028 chars]'},\n",
              " {'source': {'id': 'the-washington-post', 'name': 'The Washington Post'},\n",
              "  'author': 'Andrew Jeong, Kelsey Ables, Victoria Bisset, Ellen Francis, Cate Brown, Carrie Keller-Lynn, Alex Horton, Evan Hill, Meg Kelly, Imogen Piper, Janice Kai Chen, Júlia Ledur, Emily M. Eng, Dan Rosenzweig-Ziff, Ishaan Tharoor, Mary Ilyushina, Missy Ryan, Jeff Stein',\n",
              "  'title': 'Israel-Gaza war live updates: U.S. hits Iran-linked sites in Syria; Egypt says drone hits border town',\n",
              "  'description': 'The United States said it hit two sites used by Iran’s Islamic Revolutionary Guard Corps and others, after 21 American personnel in the Middle East were injured.',\n",
              "  'url': 'https://www.washingtonpost.com/world/2023/10/27/israel-war-hamas-gaza-news-palestine/',\n",
              "  'urlToImage': 'https://www.washingtonpost.com/wp-apps/imrs.php?src=https://arc-anglerfish-washpost-prod-washpost.s3.amazonaws.com/public/2AP23QDBFEB5YFNUTXNETDXZMA_size-normalized.jpg&w=1440',\n",
              "  'publishedAt': '2023-10-27T06:07:17Z',\n",
              "  'content': None},\n",
              " {'source': {'id': 'the-washington-post', 'name': 'The Washington Post'},\n",
              "  'author': 'Bryan Pietsch',\n",
              "  'title': 'Hamas tunnels under Gaza stretch miles, holding hostages and weapons',\n",
              "  'description': 'Far below densely populated neighborhoods, a network of tunnels poses a distinct challenge to any large-scale Israeli ground operation to strike at Hamas.',\n",
              "  'url': 'https://www.washingtonpost.com/world/2023/10/25/hamas-gaza-tunnels/',\n",
              "  'urlToImage': 'https://www.washingtonpost.com/wp-apps/imrs.php?src=https://arc-anglerfish-washpost-prod-washpost.s3.amazonaws.com/public/32T65DA36II6JK33NFWCSXO72E&w=1440',\n",
              "  'publishedAt': '2023-10-25T21:00:29Z',\n",
              "  'content': 'Return to menuCombat inside tunnels is incredibly difficult, Luttwak said, noting that it requires a specific skill set and that standard tactics and weaponry are often not suitable inside a subterra… [+1798 chars]'}]"
            ]
          },
          "metadata": {},
          "execution_count": 69
        }
      ]
    },
    {
      "cell_type": "code",
      "source": [
        "top_articles = top_headlines_list[:]\n",
        "for article in top_articles:\n",
        "  headline_url = (article['url'])\n",
        "  article['text'] = extract_data_from_url(headline_url)['text']"
      ],
      "metadata": {
        "id": "CpLbapcJZ0-G"
      },
      "execution_count": 75,
      "outputs": []
    },
    {
      "cell_type": "code",
      "source": [
        "other = []\n",
        "for article in top_articles:\n",
        "  article_text = article['text']\n",
        "  headline = article['title']\n",
        "  cleaned_article1 = extract_from_first_caps(article_text)\n",
        "  cleaned_article2 = extract_after_double_newline(article_text)\n",
        "  if cleaned_article1:\n",
        "    article['clean_text'] = remove_double_spaces(remove_ads(cleaned_article1))\n",
        "    article['clean_text_with_headline'] = headline + \"\\n\\n\" + article['author'] + \"\\n\\n\" + remove_double_spaces(remove_ads(cleaned_article1))\n",
        "  elif cleaned_article2:\n",
        "    article['clean_text'] = remove_double_spaces(remove_ads(cleaned_article2))\n",
        "    article['clean_text_with_headline'] = headline + \"\\n\\n\" + article['author'] + \"\\n\\n\" + remove_double_spaces(remove_ads(cleaned_article2))\n",
        "  else:\n",
        "    other.append(article)\n",
        "    top_headlines_list.remove(article)\n"
      ],
      "metadata": {
        "id": "ckg6JisDW9h4"
      },
      "execution_count": 79,
      "outputs": []
    },
    {
      "cell_type": "code",
      "source": [
        "top_articles[1]"
      ],
      "metadata": {
        "colab": {
          "base_uri": "https://localhost:8080/"
        },
        "id": "ErBpDazxMjdu",
        "outputId": "456d408b-ef6b-478f-8f4e-78878c3c53a6"
      },
      "execution_count": 80,
      "outputs": [
        {
          "output_type": "execute_result",
          "data": {
            "text/plain": [
              "{'source': {'id': 'the-washington-post', 'name': 'The Washington Post'},\n",
              " 'author': 'Hannah Allam, Michelle Boorstein',\n",
              " 'title': 'White House scrambles to repair relations with Arab, Muslim Americans',\n",
              " 'description': 'The president’s comment that he has “no confidence” in the civilian death toll in Gaza provided by Palestinians incensed community leaders.',\n",
              " 'url': 'https://www.washingtonpost.com/politics/2023/10/27/biden-israel-palestine-muslim-americans-war/',\n",
              " 'urlToImage': 'https://www.washingtonpost.com/wp-apps/imrs.php?src=https://arc-anglerfish-washpost-prod-washpost.s3.amazonaws.com/public/ZJ774RCYXESDW2MIUWDT5DUWWE_size-normalized.jpg&w=1440',\n",
              " 'publishedAt': '2023-10-28T01:15:39Z',\n",
              " 'content': 'Comment on this story\\r\\nComment\\r\\nAdd to your saved stories\\r\\nSave\\r\\nOne ripple effect of the Israel-Gaza war is the warp-speed unraveling of relations between President Biden and some of his most loyal … [+14420 chars]',\n",
              " 'text': 'Listen 13 min Share Comment on this story Comment Add to your saved stories Save\\n\\nOne ripple effect of the Israel-Gaza war is the warp-speed unraveling of relations between President Biden and some of his most loyal voters: Muslims and Arab Americans. This week at the White House encapsulated the strains, beginning with a listening session for frustrated administration personnel from those communities and ending with a controversial meeting between the president and five Muslim figures picked by the White House who had faced enormous pressure from activists to decline in protest.\\n\\nThe open disdain toward Biden from many in a reliably Democratic bloc is among the many signs the conflict is quickly remaking U.S. domestic politics, with public fury over a Hamas attack that killed 1,400 Israelis colliding with the horror of entire families in the Gaza Strip being wiped out in Israel’s retaliatory strikes.\\n\\nAdvertisement\\n\\nThe events of the week were described in detail in interviews with several Arab American and Muslim advocates inside and outside the administration, nearly all of them speaking on the condition of anonymity to candidly describe their dealings with the White House.\\n\\nOne organizer said community concerns could be boiled down to a critical question: “Are we dealing with warmongers or are we dealing with peacemakers? Who are we dealing with?”\\n\\nFor many Muslims and Arab Americans, the answer came Wednesday when Biden cast doubt on the number of Palestinian casualties because the figures come from health officials who report to Hamas, which controls the territory. Historically, such figures have been accurate, according to Middle East researchers. On Thursday, Hamas released names, national ID numbers and other information for the 6,747 people included in the Gaza Health Ministry’s tally. The group said 281 bodies had not yet been identified, bringing the total to 7,028.\\n\\nAdvertisement\\n\\nBiden’s remarks, which the administration later reiterated in formal statements, were interpreted by many as calling Palestinians liars, or as equating Gaza’s beleaguered medical professionals with Hamas.\\n\\nA senior Arab American White House staffer who is directly involved in engagement with the concerned communities said high-level staffers are holding several meetings with Arab, Muslim and Palestinian Americans to discuss the White House response. The staffer described Biden and other top officials’ approach as one of humility and humanity and characterized the conflict as dynamic and complex.\\n\\nThe staffer declined to comment about what has been said in the meetings. When asked whether anything would change in Biden’s tone or policy as a result of the meeting, the person pointed to the Oct. 20 news conference in which the president reiterated U.S. support for Palestinian self-determination.\\n\\nAdvertisement\\n\\n“We mourn every innocent life lost. We can’t ignore the humanity of innocent Palestinians who only want to live in peace and have an opportunity,” Biden said then.\\n\\nIn a statement Friday, White House spokesperson Robyn Patterson cited those comments and said the administration is “reaching out to hear directly from members of Muslim, Arab American, and Palestinian American communities. We’ll continue to engage in conversations with these important communities and to be unequivocal in condemning hate and discrimination against them.”\\n\\nIncensed U.S. Arab and Muslim advocacy groups this week called Biden’s remarks about the death count dangerous, and some prominent voices from those communities chimed in on social media, saying that the president had lost them and that they were considering sitting out the 2024 election.\\n\\nWhen word got out that the president wanted to meet with community leaders — ones approved by senior staffers — national activists immediately began working the phones to pressure invitees to decline or to accept only on the condition that Biden answer for his remarks about Palestinian deaths.\\n\\nAdvertisement\\n\\n“Why are you sitting down with him without any agreement that he’s going to retract that statement and apologize?” one community organizer involved in talks said. “What seat at the table are you negotiating, the toilet seat?”\\n\\nThe meeting ultimately took place Thursday, capping a week of fraught discussions that left Biden’s relations with many Arab Americans and Muslims deeply wounded. Rifts among the national advocacy groups emerged as they struggled to build a unified response to the conflict.\\n\\nAbove all, Arab Americans and Muslims interviewed by The Washington Post expressed a sense of isolation, of feeling adrift in a party they had viewed as a haven from the open hostility toward them expressed by Republicans and their de facto leader, Donald Trump.\\n\\n“You can’t reduce this to a political calculation that, by 2024, these communities won’t remember this, and I am talking about communities, plural: Arab American, Palestinian American, young voters, I’m talking about people who spent their lives working on peace in the region,” said Maya Berry, a longtime civil rights activist and executive director of the Arab American Institute. “These are all voters who won’t forget.”\\n\\nDamage control\\n\\nThe administration’s week of damage-control meetings with U.S. Arabs and Muslims began Monday at the State Department, where a small group of community representatives sat down with Secretary of State Antony Blinken.\\n\\nAdvertisement\\n\\nThe conversation was intense but remained cordial, one participant said. The visitors had strategized beforehand to keep the conversation focused on legal questions related to U.S. support for what the United Nations and other rights monitors have called Israel’s collective punishment of Gaza’s 2 million residents, about half of them children.\\n\\n“Are we following the international rules or not? Are we wavering away from that? What policies are decisions being based off of?” the participant said, summarizing the questions. The response, the person said, was that those were important questions but that “everything’s been happening so fast they’ve been focused on trying to keep it from spreading and turning into even more of a deadly conflict.”\\n\\nThere were no breakthroughs, the participant said, but the meeting had helped those there understand that the administration’s reluctance to talk about a cease-fire came from an insistence that the situation not go back to the status quo of Hamas rule in Gaza. The Arab Americans and Muslims at the meeting agreed on that point.\\n\\n“None of us want to return to the status quo, except bad actors who are profiting off of it,” the participant said. “And we said Hamas is not the only bad actor profiting off this, and we left it at that.”\\n\\nTalks were more emotional later that evening at a separate temperature-taking meeting in which senior White House officials tried to reassure Muslim and Arab American political appointees from across government.\\n\\nAdvertisement\\n\\nThe event was billed as a listening session with senior administration officials, and those who showed up didn’t hold back, according to three people with direct knowledge of the meeting.\\n\\nShare this article Share\\n\\nDozens of people were in attendance — one participant estimated around 70 — from across the government, including intelligence agencies, the State Department, the Department of Homeland Security and the Department of Health and Human Services.\\n\\nParticipants, some in tears, spoke about their endangered family members in the Middle East, of feeling isolated and under suspicion in their government jobs, and of feeling complicit in the administration’s support for Israel’s siege.\\n\\n“They feel like they’re being censored and they feel like they’re being met with suspicion, they’re not trusted” in their jobs, one person with direct knowledge of the meeting said.\\n\\nAdvertisement\\n\\nAt one point, the officials asked how many people in the room knew someone from Gaza. Nearly everyone raised their hands. Next came a more uncomfortable question: How many of those in the room had been pressured by friends or relatives to resign from the administration in recent days? Again, most hands shot up.\\n\\nThe officials in the room included White House Chief of Staff Jeff Zients; senior adviser Anita Dunn; the White House liaison to Muslim communities, Mazen Basrawi; and representatives from the State Department and other agencies. Second gentleman Doug Emhoff, the husband of Vice President Harris, also briefly stopped by.\\n\\nThe officials’ response, as summed up by an attendee, was: “We hear you. We’re with you. It’s hard. It’s challenging.”\\n\\nThe Arab American White House staffer involved in the community engagement efforts said the multiple meetings with critics inside and outside the government signaled that the administration was willing to hold tough conversations. The official added that they personally felt heard in the White House.\\n\\nAdvertisement\\n\\nThe attendees hadn’t expected a policy shift from the meeting, according to the accounts, but felt confident that their concerns would be conveyed to Biden, to be taken into consideration in his public remarks about Palestinians. Two days later, the president made the comments questioning the accuracy of Palestinian casualties at a time when Arabic-language TV channels were showing nonstop footage of lifeless, dust-covered children being pulled from the rubble after Israeli strikes.\\n\\n“Whatever we said in that room is presumably falling on deaf ears, because it’s not changing the tenor or tone, much less the policymaking,” one person involved in the talks said.\\n\\nAfter Biden’s casualty-figure remarks, some administration appointees began to consider resigning, but as that same person put it: “That’s one news cycle. Then what?” That person said that they and others had spent years working inside the Democratic machine for better representation of their communities and that this wasn’t the time for “ceding ground.”\\n\\n“There is a sense of obligation to be able to voice concern and say this is an injustice unfolding before our eyes and we’ve got to change,” the person said.\\n\\nA controversial White House meeting\\n\\nThe most controversial meeting of the week came Thursday with the White House extending an invitation to five national Muslim figures who were picked by the White House in a process one person involved with the talks described as “a s---show.”\\n\\nThe guest list: Minnesota Attorney General Keith Ellison (D), who made history as the first Muslim elected to Congress and who has written about his multiple trips to Gaza; Rami Nashashibi, a Chicago-based Muslim whose community organizing earned him a MacArthur “genius grant” in 2017; Imam Mohamed Magid, a Washington-area cleric and interfaith leader who often appears at political functions; Wa’el Alzayat of the Muslim lobbying group Emgage; and Suzanne Barakat, a health-care advocate.\\n\\nOther activists said that while the invitees were well-known and generally respected advocates for U.S. Muslims, the humanitarian catastrophe in Gaza makes this a time for Palestinian voices, including Christians.\\n\\n“I’m not upset by who is going. I’m upset by who’s not going,” the person involved with the talks said. “They’re going to come out and check a box and say Biden met with the Arab American community, and it’s not true.”\\n\\nOne of the five invitees, who spoke on the condition of anonymity to comment candidly about a sensitive issue involving the White House, said the decision to attend was one of the hardest dilemmas they had ever faced.\\n\\nA key concern, the invitee said, was that only one Palestinian American was to be present.\\n\\nA second Palestinian American, who had lost scores of relatives in the Gaza strikes and was publicly critical of the U.S. response, had been invited and then was disinvited, according to several advocates who were upset by what they interpreted as a snub.\\n\\nAfter much soul-searching and external pressure, the participant said the group decided it was an “obligation” to attend.\\n\\n“It’s our jobs, given the position we are in, to go and speak truth to power, to the most powerful man in charge, on behalf of the children under the rubble who cannot,” the invitee said.\\n\\nThe participant said the goal was to press Biden on a cease-fire and the need for broader and more meaningful engagement with Palestinians. The person added that the group was unequivocal on the issue of Gaza casualty figures and livid the president seemed more focused on a debate about data than about the fact that many hundreds of children have been killed: “We said, ‘Palestinians are dying. We’re not okay with the numbers of their dead being disputed.’”\\n\\nContacted by The Post about the meeting, Ellison said in an email, “Muslim community leaders told President Biden that the suffering of innocent Gazans trying to survive in extremely difficult circumstances has actually increased the likelihood of Islamophobic attacks in the United States. The President listened carefully, responded sincerely, and showed empathy and compassion for the suffering of everyone. I am hopeful he will act on that empathy.”\\n\\nVersions of these discussions are going on throughout the country among Muslim and Arab Americans who say they feel betrayed by and furious with the White House, feeling that Palestinian lives are being disregarded and international law and norms trampled.\\n\\n“It’s really crazy to me that the Democratic party destroyed 20-years … worth of good will with Muslims and Arabs in just 2 weeks, losing an entire generation that was raised in the progressive coalition, possibly forever,” Eman Abdelhadi, a University of Chicago professor of comparative human development who studies Palestinian Americans, wrote Thursday on X, formerly Twitter.\\n\\nIn an interview, Abdelhadi said community members weren’t surprised Biden was supportive of Israel. But “the degree, the blank check,” is scary, she said, especially given the mounting civilian casualty toll. Young people already are talking about sitting out the election in protest, she said. At a recent campus event that drew hundreds of students, Abdelhadi said, she told the audience, “I think Biden has lost the Muslim vote.”\\n\\n“The entire room erupted into clapping,” she recalled. “This generation was raised in a time when Muslims and Arabs were constantly in contact with Democrats, felt and were part of the progressive coalition. Now that is completely disillusioned.”\\n\\nGallup polling showed that in early 2022, for the first time in more than 20 years, more Democrats said that “their sympathies” lie with the Palestinians than with the Israelis, 49 percent to 38 percent.\\n\\nBiden has made multiple comments about the need for all sides to protect civilians. At a news conference Wednesday, he said that the flow of humanitarian aid into Gaza needed to increase and that Israel needed to do “everything in its power to protect innocent civilians.” But some Muslim and Arab American leaders say words are no longer enough.',\n",
              " 'clean_text': 'One ripple effect of the Israel-Gaza war is the warp-speed unraveling of relations between President Biden and some of his most loyal voters: Muslims and Arab Americans. This week at the White House encapsulated the strains, beginning with a listening session for frustrated administration personnel from those communities and ending with a controversial meeting between the president and five Muslim figures picked by the White House who had faced enormous pressure from activists to decline in protest.\\n\\nThe open disdain toward Biden from many in a reliably Democratic bloc is among the many signs the conflict is quickly remaking U.S. domestic politics, with public fury over a Hamas attack that killed 1,400 Israelis colliding with the horror of entire families in the Gaza Strip being wiped out in Israel’s retaliatory strikes.\\n\\nThe events of the week were described in detail in interviews with several Arab American and Muslim advocates inside and outside the administration, nearly all of them speaking on the condition of anonymity to candidly describe their dealings with the White House.\\n\\nOne organizer said community concerns could be boiled down to a critical question: “Are we dealing with warmongers or are we dealing with peacemakers? Who are we dealing with?”\\n\\nFor many Muslims and Arab Americans, the answer came Wednesday when Biden cast doubt on the number of Palestinian casualties because the figures come from health officials who report to Hamas, which controls the territory. Historically, such figures have been accurate, according to Middle East researchers. On Thursday, Hamas released names, national ID numbers and other information for the 6,747 people included in the Gaza Health Ministry’s tally. The group said 281 bodies had not yet been identified, bringing the total to 7,028.\\n\\nBiden’s remarks, which the administration later reiterated in formal statements, were interpreted by many as calling Palestinians liars, or as equating Gaza’s beleaguered medical professionals with Hamas.\\n\\nA senior Arab American White House staffer who is directly involved in engagement with the concerned communities said high-level staffers are holding several meetings with Arab, Muslim and Palestinian Americans to discuss the White House response. The staffer described Biden and other top officials’ approach as one of humility and humanity and characterized the conflict as dynamic and complex.\\n\\nThe staffer declined to comment about what has been said in the meetings. When asked whether anything would change in Biden’s tone or policy as a result of the meeting, the person pointed to the Oct. 20 news conference in which the president reiterated U.S. support for Palestinian self-determination.\\n\\n“We mourn every innocent life lost. We can’t ignore the humanity of innocent Palestinians who only want to live in peace and have an opportunity,” Biden said then.\\n\\nIn a statement Friday, White House spokesperson Robyn Patterson cited those comments and said the administration is “reaching out to hear directly from members of Muslim, Arab American, and Palestinian American communities. We’ll continue to engage in conversations with these important communities and to be unequivocal in condemning hate and discrimination against them.”\\n\\nIncensed U.S. Arab and Muslim advocacy groups this week called Biden’s remarks about the death count dangerous, and some prominent voices from those communities chimed in on social media, saying that the president had lost them and that they were considering sitting out the 2024 election.\\n\\nWhen word got out that the president wanted to meet with community leaders — ones approved by senior staffers — national activists immediately began working the phones to pressure invitees to decline or to accept only on the condition that Biden answer for his remarks about Palestinian deaths.\\n\\n“Why are you sitting down with him without any agreement that he’s going to retract that statement and apologize?” one community organizer involved in talks said. “What seat at the table are you negotiating, the toilet seat?”\\n\\nThe meeting ultimately took place Thursday, capping a week of fraught discussions that left Biden’s relations with many Arab Americans and Muslims deeply wounded. Rifts among the national advocacy groups emerged as they struggled to build a unified response to the conflict.\\n\\nAbove all, Arab Americans and Muslims interviewed by The Washington Post expressed a sense of isolation, of feeling adrift in a party they had viewed as a haven from the open hostility toward them expressed by Republicans and their de facto leader, Donald Trump.\\n\\n“You can’t reduce this to a political calculation that, by 2024, these communities won’t remember this, and I am talking about communities, plural: Arab American, Palestinian American, young voters, I’m talking about people who spent their lives working on peace in the region,” said Maya Berry, a longtime civil rights activist and executive director of the Arab American Institute. “These are all voters who won’t forget.”\\n\\nDamage control\\n\\nThe administration’s week of damage-control meetings with U.S. Arabs and Muslims began Monday at the State Department, where a small group of community representatives sat down with Secretary of State Antony Blinken.\\n\\nThe conversation was intense but remained cordial, one participant said. The visitors had strategized beforehand to keep the conversation focused on legal questions related to U.S. support for what the United Nations and other rights monitors have called Israel’s collective punishment of Gaza’s 2 million residents, about half of them children.\\n\\n“Are we following the international rules or not? Are we wavering away from that? What policies are decisions being based off of?” the participant said, summarizing the questions. The response, the person said, was that those were important questions but that “everything’s been happening so fast they’ve been focused on trying to keep it from spreading and turning into even more of a deadly conflict.”\\n\\nThere were no breakthroughs, the participant said, but the meeting had helped those there understand that the administration’s reluctance to talk about a cease-fire came from an insistence that the situation not go back to the status quo of Hamas rule in Gaza. The Arab Americans and Muslims at the meeting agreed on that point.\\n\\n“None of us want to return to the status quo, except bad actors who are profiting off of it,” the participant said. “And we said Hamas is not the only bad actor profiting off this, and we left it at that.”\\n\\nTalks were more emotional later that evening at a separate temperature-taking meeting in which senior White House officials tried to reassure Muslim and Arab American political appointees from across government.\\n\\nThe event was billed as a listening session with senior administration officials, and those who showed up didn’t hold back, according to three people with direct knowledge of the meeting.\\n\\nShare this article Share\\n\\nDozens of people were in attendance — one participant estimated around 70 — from across the government, including intelligence agencies, the State Department, the Department of Homeland Security and the Department of Health and Human Services.\\n\\nParticipants, some in tears, spoke about their endangered family members in the Middle East, of feeling isolated and under suspicion in their government jobs, and of feeling complicit in the administration’s support for Israel’s siege.\\n\\n“They feel like they’re being censored and they feel like they’re being met with suspicion, they’re not trusted” in their jobs, one person with direct knowledge of the meeting said.\\n\\nAt one point, the officials asked how many people in the room knew someone from Gaza. Nearly everyone raised their hands. Next came a more uncomfortable question: How many of those in the room had been pressured by friends or relatives to resign from the administration in recent days? Again, most hands shot up.\\n\\nThe officials in the room included White House Chief of Staff Jeff Zients; senior adviser Anita Dunn; the White House liaison to Muslim communities, Mazen Basrawi; and representatives from the State Department and other agencies. Second gentleman Doug Emhoff, the husband of Vice President Harris, also briefly stopped by.\\n\\nThe officials’ response, as summed up by an attendee, was: “We hear you. We’re with you. It’s hard. It’s challenging.”\\n\\nThe Arab American White House staffer involved in the community engagement efforts said the multiple meetings with critics inside and outside the government signaled that the administration was willing to hold tough conversations. The official added that they personally felt heard in the White House.\\n\\nThe attendees hadn’t expected a policy shift from the meeting, according to the accounts, but felt confident that their concerns would be conveyed to Biden, to be taken into consideration in his public remarks about Palestinians. Two days later, the president made the comments questioning the accuracy of Palestinian casualties at a time when Arabic-language TV channels were showing nonstop footage of lifeless, dust-covered children being pulled from the rubble after Israeli strikes.\\n\\n“Whatever we said in that room is presumably falling on deaf ears, because it’s not changing the tenor or tone, much less the policymaking,” one person involved in the talks said.\\n\\nAfter Biden’s casualty-figure remarks, some administration appointees began to consider resigning, but as that same person put it: “That’s one news cycle. Then what?” That person said that they and others had spent years working inside the Democratic machine for better representation of their communities and that this wasn’t the time for “ceding ground.”\\n\\n“There is a sense of obligation to be able to voice concern and say this is an injustice unfolding before our eyes and we’ve got to change,” the person said.\\n\\nA controversial White House meeting\\n\\nThe most controversial meeting of the week came Thursday with the White House extending an invitation to five national Muslim figures who were picked by the White House in a process one person involved with the talks described as “a s---show.”\\n\\nThe guest list: Minnesota Attorney General Keith Ellison (D), who made history as the first Muslim elected to Congress and who has written about his multiple trips to Gaza; Rami Nashashibi, a Chicago-based Muslim whose community organizing earned him a MacArthur “genius grant” in 2017; Imam Mohamed Magid, a Washington-area cleric and interfaith leader who often appears at political functions; Wa’el Alzayat of the Muslim lobbying group Emgage; and Suzanne Barakat, a health-care advocate.\\n\\nOther activists said that while the invitees were well-known and generally respected advocates for U.S. Muslims, the humanitarian catastrophe in Gaza makes this a time for Palestinian voices, including Christians.\\n\\n“I’m not upset by who is going. I’m upset by who’s not going,” the person involved with the talks said. “They’re going to come out and check a box and say Biden met with the Arab American community, and it’s not true.”\\n\\nOne of the five invitees, who spoke on the condition of anonymity to comment candidly about a sensitive issue involving the White House, said the decision to attend was one of the hardest dilemmas they had ever faced.\\n\\nA key concern, the invitee said, was that only one Palestinian American was to be present.\\n\\nA second Palestinian American, who had lost scores of relatives in the Gaza strikes and was publicly critical of the U.S. response, had been invited and then was disinvited, according to several advocates who were upset by what they interpreted as a snub.\\n\\nAfter much soul-searching and external pressure, the participant said the group decided it was an “obligation” to attend.\\n\\n“It’s our jobs, given the position we are in, to go and speak truth to power, to the most powerful man in charge, on behalf of the children under the rubble who cannot,” the invitee said.\\n\\nThe participant said the goal was to press Biden on a cease-fire and the need for broader and more meaningful engagement with Palestinians. The person added that the group was unequivocal on the issue of Gaza casualty figures and livid the president seemed more focused on a debate about data than about the fact that many hundreds of children have been killed: “We said, ‘Palestinians are dying. We’re not okay with the numbers of their dead being disputed.’”\\n\\nContacted by The Post about the meeting, Ellison said in an email, “Muslim community leaders told President Biden that the suffering of innocent Gazans trying to survive in extremely difficult circumstances has actually increased the likelihood of Islamophobic attacks in the United States. The President listened carefully, responded sincerely, and showed empathy and compassion for the suffering of everyone. I am hopeful he will act on that empathy.”\\n\\nVersions of these discussions are going on throughout the country among Muslim and Arab Americans who say they feel betrayed by and furious with the White House, feeling that Palestinian lives are being disregarded and international law and norms trampled.\\n\\n“It’s really crazy to me that the Democratic party destroyed 20-years … worth of good will with Muslims and Arabs in just 2 weeks, losing an entire generation that was raised in the progressive coalition, possibly forever,” Eman Abdelhadi, a University of Chicago professor of comparative human development who studies Palestinian Americans, wrote Thursday on X, formerly Twitter.\\n\\nIn an interview, Abdelhadi said community members weren’t surprised Biden was supportive of Israel. But “the degree, the blank check,” is scary, she said, especially given the mounting civilian casualty toll. Young people already are talking about sitting out the election in protest, she said. At a recent campus event that drew hundreds of students, Abdelhadi said, she told the audience, “I think Biden has lost the Muslim vote.”\\n\\n“The entire room erupted into clapping,” she recalled. “This generation was raised in a time when Muslims and Arabs were constantly in contact with Democrats, felt and were part of the progressive coalition. Now that is completely disillusioned.”\\n\\nGallup polling showed that in early 2022, for the first time in more than 20 years, more Democrats said that “their sympathies” lie with the Palestinians than with the Israelis, 49 percent to 38 percent.\\n\\nBiden has made multiple comments about the need for all sides to protect civilians. At a news conference Wednesday, he said that the flow of humanitarian aid into Gaza needed to increase and that Israel needed to do “everything in its power to protect innocent civilians.” But some Muslim and Arab American leaders say words are no longer enough.',\n",
              " 'clean_text_with_headline': 'White House scrambles to repair relations with Arab, Muslim Americans\\n\\nHannah Allam, Michelle Boorstein\\n\\nOne ripple effect of the Israel-Gaza war is the warp-speed unraveling of relations between President Biden and some of his most loyal voters: Muslims and Arab Americans. This week at the White House encapsulated the strains, beginning with a listening session for frustrated administration personnel from those communities and ending with a controversial meeting between the president and five Muslim figures picked by the White House who had faced enormous pressure from activists to decline in protest.\\n\\nThe open disdain toward Biden from many in a reliably Democratic bloc is among the many signs the conflict is quickly remaking U.S. domestic politics, with public fury over a Hamas attack that killed 1,400 Israelis colliding with the horror of entire families in the Gaza Strip being wiped out in Israel’s retaliatory strikes.\\n\\nThe events of the week were described in detail in interviews with several Arab American and Muslim advocates inside and outside the administration, nearly all of them speaking on the condition of anonymity to candidly describe their dealings with the White House.\\n\\nOne organizer said community concerns could be boiled down to a critical question: “Are we dealing with warmongers or are we dealing with peacemakers? Who are we dealing with?”\\n\\nFor many Muslims and Arab Americans, the answer came Wednesday when Biden cast doubt on the number of Palestinian casualties because the figures come from health officials who report to Hamas, which controls the territory. Historically, such figures have been accurate, according to Middle East researchers. On Thursday, Hamas released names, national ID numbers and other information for the 6,747 people included in the Gaza Health Ministry’s tally. The group said 281 bodies had not yet been identified, bringing the total to 7,028.\\n\\nBiden’s remarks, which the administration later reiterated in formal statements, were interpreted by many as calling Palestinians liars, or as equating Gaza’s beleaguered medical professionals with Hamas.\\n\\nA senior Arab American White House staffer who is directly involved in engagement with the concerned communities said high-level staffers are holding several meetings with Arab, Muslim and Palestinian Americans to discuss the White House response. The staffer described Biden and other top officials’ approach as one of humility and humanity and characterized the conflict as dynamic and complex.\\n\\nThe staffer declined to comment about what has been said in the meetings. When asked whether anything would change in Biden’s tone or policy as a result of the meeting, the person pointed to the Oct. 20 news conference in which the president reiterated U.S. support for Palestinian self-determination.\\n\\n“We mourn every innocent life lost. We can’t ignore the humanity of innocent Palestinians who only want to live in peace and have an opportunity,” Biden said then.\\n\\nIn a statement Friday, White House spokesperson Robyn Patterson cited those comments and said the administration is “reaching out to hear directly from members of Muslim, Arab American, and Palestinian American communities. We’ll continue to engage in conversations with these important communities and to be unequivocal in condemning hate and discrimination against them.”\\n\\nIncensed U.S. Arab and Muslim advocacy groups this week called Biden’s remarks about the death count dangerous, and some prominent voices from those communities chimed in on social media, saying that the president had lost them and that they were considering sitting out the 2024 election.\\n\\nWhen word got out that the president wanted to meet with community leaders — ones approved by senior staffers — national activists immediately began working the phones to pressure invitees to decline or to accept only on the condition that Biden answer for his remarks about Palestinian deaths.\\n\\n“Why are you sitting down with him without any agreement that he’s going to retract that statement and apologize?” one community organizer involved in talks said. “What seat at the table are you negotiating, the toilet seat?”\\n\\nThe meeting ultimately took place Thursday, capping a week of fraught discussions that left Biden’s relations with many Arab Americans and Muslims deeply wounded. Rifts among the national advocacy groups emerged as they struggled to build a unified response to the conflict.\\n\\nAbove all, Arab Americans and Muslims interviewed by The Washington Post expressed a sense of isolation, of feeling adrift in a party they had viewed as a haven from the open hostility toward them expressed by Republicans and their de facto leader, Donald Trump.\\n\\n“You can’t reduce this to a political calculation that, by 2024, these communities won’t remember this, and I am talking about communities, plural: Arab American, Palestinian American, young voters, I’m talking about people who spent their lives working on peace in the region,” said Maya Berry, a longtime civil rights activist and executive director of the Arab American Institute. “These are all voters who won’t forget.”\\n\\nDamage control\\n\\nThe administration’s week of damage-control meetings with U.S. Arabs and Muslims began Monday at the State Department, where a small group of community representatives sat down with Secretary of State Antony Blinken.\\n\\nThe conversation was intense but remained cordial, one participant said. The visitors had strategized beforehand to keep the conversation focused on legal questions related to U.S. support for what the United Nations and other rights monitors have called Israel’s collective punishment of Gaza’s 2 million residents, about half of them children.\\n\\n“Are we following the international rules or not? Are we wavering away from that? What policies are decisions being based off of?” the participant said, summarizing the questions. The response, the person said, was that those were important questions but that “everything’s been happening so fast they’ve been focused on trying to keep it from spreading and turning into even more of a deadly conflict.”\\n\\nThere were no breakthroughs, the participant said, but the meeting had helped those there understand that the administration’s reluctance to talk about a cease-fire came from an insistence that the situation not go back to the status quo of Hamas rule in Gaza. The Arab Americans and Muslims at the meeting agreed on that point.\\n\\n“None of us want to return to the status quo, except bad actors who are profiting off of it,” the participant said. “And we said Hamas is not the only bad actor profiting off this, and we left it at that.”\\n\\nTalks were more emotional later that evening at a separate temperature-taking meeting in which senior White House officials tried to reassure Muslim and Arab American political appointees from across government.\\n\\nThe event was billed as a listening session with senior administration officials, and those who showed up didn’t hold back, according to three people with direct knowledge of the meeting.\\n\\nShare this article Share\\n\\nDozens of people were in attendance — one participant estimated around 70 — from across the government, including intelligence agencies, the State Department, the Department of Homeland Security and the Department of Health and Human Services.\\n\\nParticipants, some in tears, spoke about their endangered family members in the Middle East, of feeling isolated and under suspicion in their government jobs, and of feeling complicit in the administration’s support for Israel’s siege.\\n\\n“They feel like they’re being censored and they feel like they’re being met with suspicion, they’re not trusted” in their jobs, one person with direct knowledge of the meeting said.\\n\\nAt one point, the officials asked how many people in the room knew someone from Gaza. Nearly everyone raised their hands. Next came a more uncomfortable question: How many of those in the room had been pressured by friends or relatives to resign from the administration in recent days? Again, most hands shot up.\\n\\nThe officials in the room included White House Chief of Staff Jeff Zients; senior adviser Anita Dunn; the White House liaison to Muslim communities, Mazen Basrawi; and representatives from the State Department and other agencies. Second gentleman Doug Emhoff, the husband of Vice President Harris, also briefly stopped by.\\n\\nThe officials’ response, as summed up by an attendee, was: “We hear you. We’re with you. It’s hard. It’s challenging.”\\n\\nThe Arab American White House staffer involved in the community engagement efforts said the multiple meetings with critics inside and outside the government signaled that the administration was willing to hold tough conversations. The official added that they personally felt heard in the White House.\\n\\nThe attendees hadn’t expected a policy shift from the meeting, according to the accounts, but felt confident that their concerns would be conveyed to Biden, to be taken into consideration in his public remarks about Palestinians. Two days later, the president made the comments questioning the accuracy of Palestinian casualties at a time when Arabic-language TV channels were showing nonstop footage of lifeless, dust-covered children being pulled from the rubble after Israeli strikes.\\n\\n“Whatever we said in that room is presumably falling on deaf ears, because it’s not changing the tenor or tone, much less the policymaking,” one person involved in the talks said.\\n\\nAfter Biden’s casualty-figure remarks, some administration appointees began to consider resigning, but as that same person put it: “That’s one news cycle. Then what?” That person said that they and others had spent years working inside the Democratic machine for better representation of their communities and that this wasn’t the time for “ceding ground.”\\n\\n“There is a sense of obligation to be able to voice concern and say this is an injustice unfolding before our eyes and we’ve got to change,” the person said.\\n\\nA controversial White House meeting\\n\\nThe most controversial meeting of the week came Thursday with the White House extending an invitation to five national Muslim figures who were picked by the White House in a process one person involved with the talks described as “a s---show.”\\n\\nThe guest list: Minnesota Attorney General Keith Ellison (D), who made history as the first Muslim elected to Congress and who has written about his multiple trips to Gaza; Rami Nashashibi, a Chicago-based Muslim whose community organizing earned him a MacArthur “genius grant” in 2017; Imam Mohamed Magid, a Washington-area cleric and interfaith leader who often appears at political functions; Wa’el Alzayat of the Muslim lobbying group Emgage; and Suzanne Barakat, a health-care advocate.\\n\\nOther activists said that while the invitees were well-known and generally respected advocates for U.S. Muslims, the humanitarian catastrophe in Gaza makes this a time for Palestinian voices, including Christians.\\n\\n“I’m not upset by who is going. I’m upset by who’s not going,” the person involved with the talks said. “They’re going to come out and check a box and say Biden met with the Arab American community, and it’s not true.”\\n\\nOne of the five invitees, who spoke on the condition of anonymity to comment candidly about a sensitive issue involving the White House, said the decision to attend was one of the hardest dilemmas they had ever faced.\\n\\nA key concern, the invitee said, was that only one Palestinian American was to be present.\\n\\nA second Palestinian American, who had lost scores of relatives in the Gaza strikes and was publicly critical of the U.S. response, had been invited and then was disinvited, according to several advocates who were upset by what they interpreted as a snub.\\n\\nAfter much soul-searching and external pressure, the participant said the group decided it was an “obligation” to attend.\\n\\n“It’s our jobs, given the position we are in, to go and speak truth to power, to the most powerful man in charge, on behalf of the children under the rubble who cannot,” the invitee said.\\n\\nThe participant said the goal was to press Biden on a cease-fire and the need for broader and more meaningful engagement with Palestinians. The person added that the group was unequivocal on the issue of Gaza casualty figures and livid the president seemed more focused on a debate about data than about the fact that many hundreds of children have been killed: “We said, ‘Palestinians are dying. We’re not okay with the numbers of their dead being disputed.’”\\n\\nContacted by The Post about the meeting, Ellison said in an email, “Muslim community leaders told President Biden that the suffering of innocent Gazans trying to survive in extremely difficult circumstances has actually increased the likelihood of Islamophobic attacks in the United States. The President listened carefully, responded sincerely, and showed empathy and compassion for the suffering of everyone. I am hopeful he will act on that empathy.”\\n\\nVersions of these discussions are going on throughout the country among Muslim and Arab Americans who say they feel betrayed by and furious with the White House, feeling that Palestinian lives are being disregarded and international law and norms trampled.\\n\\n“It’s really crazy to me that the Democratic party destroyed 20-years … worth of good will with Muslims and Arabs in just 2 weeks, losing an entire generation that was raised in the progressive coalition, possibly forever,” Eman Abdelhadi, a University of Chicago professor of comparative human development who studies Palestinian Americans, wrote Thursday on X, formerly Twitter.\\n\\nIn an interview, Abdelhadi said community members weren’t surprised Biden was supportive of Israel. But “the degree, the blank check,” is scary, she said, especially given the mounting civilian casualty toll. Young people already are talking about sitting out the election in protest, she said. At a recent campus event that drew hundreds of students, Abdelhadi said, she told the audience, “I think Biden has lost the Muslim vote.”\\n\\n“The entire room erupted into clapping,” she recalled. “This generation was raised in a time when Muslims and Arabs were constantly in contact with Democrats, felt and were part of the progressive coalition. Now that is completely disillusioned.”\\n\\nGallup polling showed that in early 2022, for the first time in more than 20 years, more Democrats said that “their sympathies” lie with the Palestinians than with the Israelis, 49 percent to 38 percent.\\n\\nBiden has made multiple comments about the need for all sides to protect civilians. At a news conference Wednesday, he said that the flow of humanitarian aid into Gaza needed to increase and that Israel needed to do “everything in its power to protect innocent civilians.” But some Muslim and Arab American leaders say words are no longer enough.'}"
            ]
          },
          "metadata": {},
          "execution_count": 80
        }
      ]
    }
  ]
}