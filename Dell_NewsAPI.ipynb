{
  "nbformat": 4,
  "nbformat_minor": 0,
  "metadata": {
    "colab": {
      "provenance": [],
      "authorship_tag": "ABX9TyOudaz5H6RgPvrKA4S6UnOt",
      "include_colab_link": true
    },
    "kernelspec": {
      "name": "python3",
      "display_name": "Python 3"
    },
    "language_info": {
      "name": "python"
    }
  },
  "cells": [
    {
      "cell_type": "markdown",
      "metadata": {
        "id": "view-in-github",
        "colab_type": "text"
      },
      "source": [
        "<a href=\"https://colab.research.google.com/github/andrewmlu/dell-newspaper-api/blob/main/Dell_NewsAPI.ipynb\" target=\"_parent\"><img src=\"https://colab.research.google.com/assets/colab-badge.svg\" alt=\"Open In Colab\"/></a>"
      ]
    },
    {
      "cell_type": "code",
      "execution_count": 9,
      "metadata": {
        "colab": {
          "base_uri": "https://localhost:8080/"
        },
        "id": "q3DNnLkBEKSh",
        "outputId": "7ff67b80-bb28-4ec7-fb53-05b55e2a7f87"
      },
      "outputs": [
        {
          "output_type": "stream",
          "name": "stdout",
          "text": [
            "Requirement already satisfied: newsapi-python in /usr/local/lib/python3.10/dist-packages (0.2.7)\n",
            "Requirement already satisfied: requests<3.0.0 in /usr/local/lib/python3.10/dist-packages (from newsapi-python) (2.31.0)\n",
            "Requirement already satisfied: charset-normalizer<4,>=2 in /usr/local/lib/python3.10/dist-packages (from requests<3.0.0->newsapi-python) (3.3.0)\n",
            "Requirement already satisfied: idna<4,>=2.5 in /usr/local/lib/python3.10/dist-packages (from requests<3.0.0->newsapi-python) (3.4)\n",
            "Requirement already satisfied: urllib3<3,>=1.21.1 in /usr/local/lib/python3.10/dist-packages (from requests<3.0.0->newsapi-python) (2.0.7)\n",
            "Requirement already satisfied: certifi>=2017.4.17 in /usr/local/lib/python3.10/dist-packages (from requests<3.0.0->newsapi-python) (2023.7.22)\n",
            "Requirement already satisfied: newspaper3k in /usr/local/lib/python3.10/dist-packages (0.2.8)\n",
            "Requirement already satisfied: beautifulsoup4>=4.4.1 in /usr/local/lib/python3.10/dist-packages (from newspaper3k) (4.11.2)\n",
            "Requirement already satisfied: Pillow>=3.3.0 in /usr/local/lib/python3.10/dist-packages (from newspaper3k) (9.4.0)\n",
            "Requirement already satisfied: PyYAML>=3.11 in /usr/local/lib/python3.10/dist-packages (from newspaper3k) (6.0.1)\n",
            "Requirement already satisfied: cssselect>=0.9.2 in /usr/local/lib/python3.10/dist-packages (from newspaper3k) (1.2.0)\n",
            "Requirement already satisfied: lxml>=3.6.0 in /usr/local/lib/python3.10/dist-packages (from newspaper3k) (4.9.3)\n",
            "Requirement already satisfied: nltk>=3.2.1 in /usr/local/lib/python3.10/dist-packages (from newspaper3k) (3.8.1)\n",
            "Requirement already satisfied: requests>=2.10.0 in /usr/local/lib/python3.10/dist-packages (from newspaper3k) (2.31.0)\n",
            "Requirement already satisfied: feedparser>=5.2.1 in /usr/local/lib/python3.10/dist-packages (from newspaper3k) (6.0.10)\n",
            "Requirement already satisfied: tldextract>=2.0.1 in /usr/local/lib/python3.10/dist-packages (from newspaper3k) (5.0.1)\n",
            "Requirement already satisfied: feedfinder2>=0.0.4 in /usr/local/lib/python3.10/dist-packages (from newspaper3k) (0.0.4)\n",
            "Requirement already satisfied: jieba3k>=0.35.1 in /usr/local/lib/python3.10/dist-packages (from newspaper3k) (0.35.1)\n",
            "Requirement already satisfied: python-dateutil>=2.5.3 in /usr/local/lib/python3.10/dist-packages (from newspaper3k) (2.8.2)\n",
            "Requirement already satisfied: tinysegmenter==0.3 in /usr/local/lib/python3.10/dist-packages (from newspaper3k) (0.3)\n",
            "Requirement already satisfied: soupsieve>1.2 in /usr/local/lib/python3.10/dist-packages (from beautifulsoup4>=4.4.1->newspaper3k) (2.5)\n",
            "Requirement already satisfied: six in /usr/local/lib/python3.10/dist-packages (from feedfinder2>=0.0.4->newspaper3k) (1.16.0)\n",
            "Requirement already satisfied: sgmllib3k in /usr/local/lib/python3.10/dist-packages (from feedparser>=5.2.1->newspaper3k) (1.0.0)\n",
            "Requirement already satisfied: click in /usr/local/lib/python3.10/dist-packages (from nltk>=3.2.1->newspaper3k) (8.1.7)\n",
            "Requirement already satisfied: joblib in /usr/local/lib/python3.10/dist-packages (from nltk>=3.2.1->newspaper3k) (1.3.2)\n",
            "Requirement already satisfied: regex>=2021.8.3 in /usr/local/lib/python3.10/dist-packages (from nltk>=3.2.1->newspaper3k) (2023.6.3)\n",
            "Requirement already satisfied: tqdm in /usr/local/lib/python3.10/dist-packages (from nltk>=3.2.1->newspaper3k) (4.66.1)\n",
            "Requirement already satisfied: charset-normalizer<4,>=2 in /usr/local/lib/python3.10/dist-packages (from requests>=2.10.0->newspaper3k) (3.3.0)\n",
            "Requirement already satisfied: idna<4,>=2.5 in /usr/local/lib/python3.10/dist-packages (from requests>=2.10.0->newspaper3k) (3.4)\n",
            "Requirement already satisfied: urllib3<3,>=1.21.1 in /usr/local/lib/python3.10/dist-packages (from requests>=2.10.0->newspaper3k) (2.0.7)\n",
            "Requirement already satisfied: certifi>=2017.4.17 in /usr/local/lib/python3.10/dist-packages (from requests>=2.10.0->newspaper3k) (2023.7.22)\n",
            "Requirement already satisfied: requests-file>=1.4 in /usr/local/lib/python3.10/dist-packages (from tldextract>=2.0.1->newspaper3k) (1.5.1)\n",
            "Requirement already satisfied: filelock>=3.0.8 in /usr/local/lib/python3.10/dist-packages (from tldextract>=2.0.1->newspaper3k) (3.12.4)\n"
          ]
        }
      ],
      "source": [
        "!pip install newsapi-python\n",
        "!pip3 install newspaper3k"
      ]
    },
    {
      "cell_type": "code",
      "source": [
        "from newsapi import NewsApiClient\n",
        "import newspaper\n",
        "\n",
        "# free account -- don't worry about API key haha\n",
        "newsapi = NewsApiClient(api_key='6c34b8a2b3e94334bb0ce0ce92d24939')"
      ],
      "metadata": {
        "id": "9GK2fgYDEMgW"
      },
      "execution_count": 10,
      "outputs": []
    },
    {
      "cell_type": "code",
      "source": [
        "# /v2/top-headlines\n",
        "top_headlines = newsapi.get_top_headlines(sources=\"the-washington-post\", page_size=10)\n",
        "\n",
        "print(top_headlines)"
      ],
      "metadata": {
        "id": "Fy1L70QXY39e",
        "colab": {
          "base_uri": "https://localhost:8080/"
        },
        "outputId": "e90ca6e5-5e50-48d3-90c4-45f67acd1540"
      },
      "execution_count": 11,
      "outputs": [
        {
          "output_type": "stream",
          "name": "stdout",
          "text": [
            "{'status': 'ok', 'totalResults': 10, 'articles': [{'source': {'id': 'the-washington-post', 'name': 'The Washington Post'}, 'author': None, 'title': 'The scene during the First Annual Kalorama Park Halloween Dog Parade', 'description': 'Over one hundred people gathered to watch costume contest judging, during the First Annual Kalorama Park Halloween Dog Parade, In Washington.', 'url': 'https://www.washingtonpost.com/dc-md-va/interactive/2023/scene-during-first-annual-kalorama-park-halloween-dog-parade/', 'urlToImage': 'https://img.washingtonpost.com/wp-apps/imrs.php?src=https://arc-anglerfish-washpost-prod-washpost.s3.amazonaws.com/public/2GERU7LF74YEXCXXEXJABMW7YM.JPG&w=1200', 'publishedAt': '2023-10-22T15:07:40.2249637Z', 'content': 'Oct. 21 | Washington\\r\\nOver one hundred people gather to watch costume contest judging, during the First Annual Kalorama Park Halloween Dog Parade, in Kalorama Park near the Adams Morgan neighborhood.… [+36 chars]'}, {'source': {'id': 'the-washington-post', 'name': 'The Washington Post'}, 'author': 'Joshua Keating', 'title': 'Sanctions can be a tool of peace. But they’re often a weapon, too.', 'description': 'The global economy is a baffling battlefield. These three new books are here to help us understand it.', 'url': 'https://www.washingtonpost.com/books/2023/10/22/sanctions-economic-war-books/', 'urlToImage': 'https://www.washingtonpost.com/wp-apps/imrs.php?src=https://arc-anglerfish-washpost-prod-washpost.s3.amazonaws.com/public/VCZ3KIHV2REXZIR7T5QJUNG4T4_size-normalized.jpg&w=1440', 'publishedAt': '2023-10-22T15:00:03Z', 'content': 'Comment on this story\\r\\nComment\\r\\nAdd to your saved stories\\r\\nSave\\r\\nOn the night of Sept. 6, shortly after the announcement of $1 billion in new U.S. funding for Ukraine, Secretary of State Antony Blink… [+17129 chars]'}, {'source': {'id': 'the-washington-post', 'name': 'The Washington Post'}, 'author': \"Caroline O'Donovan, Taylor Telford, Gerrit De Vynck\", 'title': 'Israel-Gaza war prompts U.S. employees to demand companies take a side', 'description': 'A new website documents “Anti-Israel Employees,” prompting some pro-Palestinian employees to say they’re being targeted.', 'url': 'https://www.washingtonpost.com/technology/2023/10/22/google-amazon-meta-gaza-israel-contracts/', 'urlToImage': 'https://www.washingtonpost.com/wp-apps/imrs.php?src=https://arc-anglerfish-washpost-prod-washpost.s3.amazonaws.com/public/QPEJKF4SEGBAAM32TCCZ3GSO5Y_size-normalized.jpg&w=1440', 'publishedAt': '2023-10-22T11:00:10Z', 'content': 'Comment on this story\\r\\nComment\\r\\nAdd to your saved stories\\r\\nSave\\r\\nSAN FRANCISCO A California-based Google designer was among hundreds of people shocked to find their names on a public list being circu… [+12355 chars]'}, {'source': {'id': 'the-washington-post', 'name': 'The Washington Post'}, 'author': 'Danielle Douglas-Gabriel', 'title': 'He rushed from Maryland to Israel to fight. On Friday, he was killed.', 'description': 'Rockville native and Israeli reservist Omer Balva ‘brought a lot of light to the world.’', 'url': 'https://www.washingtonpost.com/world/2023/10/22/omer-balva-rockville-israel-idf-gaza-lebanon/', 'urlToImage': 'https://www.washingtonpost.com/wp-apps/imrs.php?src=https://arc-anglerfish-washpost-prod-washpost.s3.amazonaws.com/public/T5HR2CFKERHWZIQNAM5WMTOYEU.jpg&w=1440', 'publishedAt': '2023-10-22T11:00:10Z', 'content': 'Comment on this story\\r\\nComment\\r\\nAdd to your saved stories\\r\\nSave\\r\\nOmer Balva, a 22-year-old Rockville native, was back from his home in Israel. Then, during his U.S. vacation earlier this month, Hamas… [+4081 chars]'}, {'source': {'id': 'the-washington-post', 'name': 'The Washington Post'}, 'author': 'Greg Jaffe, Patrick Marley', 'title': 'The pandemic is over in this Michigan county. The mistrust never ended.', 'description': 'Sierra Schuetz’s government job feeding the poor in conservative Ottawa County became a passion. Could it survive the suspicions that multiplied alongside covid?', 'url': 'https://www.washingtonpost.com/politics/2023/10/22/ottawa-county-michigan-covid-mistrust/', 'urlToImage': 'https://www.washingtonpost.com/wp-apps/imrs.php?src=https://arc-anglerfish-washpost-prod-washpost.s3.amazonaws.com/public/DAGIQAGUNHSBQJCEZDXXSWCEHE_size-normalized.JPG&w=1440', 'publishedAt': '2023-10-22T10:00:19Z', 'content': 'Comment on this story\\r\\nComment\\r\\nAdd to your saved stories\\r\\nSave\\r\\nHOLLAND, Mich. Every few hours, Sierra Schuetz checked to see if Ottawa Countys leaders had posted a new version of the 2024 budget on… [+25875 chars]'}, {'source': {'id': 'the-washington-post', 'name': 'The Washington Post'}, 'author': 'Isaac Stanley-Becker, Amy Gardner, Josh Dawsey', 'title': 'Sidney Powell was Trump’s biggest ‘fighter.’ Now she’s a big threat.', 'description': 'Powell, who was angry that Trump didn’t act on her counsel, is the now government’s most prominent asset in its quest to convict him.', 'url': 'https://www.washingtonpost.com/national-security/2023/10/21/sidney-powell-trump-georgia-election-case/', 'urlToImage': 'https://www.washingtonpost.com/wp-apps/imrs.php?src=https://arc-anglerfish-washpost-prod-washpost.s3.amazonaws.com/public/HHKAFZBU5YI6XKMXD5GFHUVHI4.jpg&w=1440', 'publishedAt': '2023-10-22T00:43:59Z', 'content': 'Comment on this story\\r\\nComment\\r\\nAdd to your saved stories\\r\\nSave\\r\\nIn the weeks after the 2020 election, a self-assured lawyer with a Southern drawl quickly climbed the ranks of the movement trying to … [+16144 chars]'}, {'source': {'id': 'the-washington-post', 'name': 'The Washington Post'}, 'author': 'Loveday Morris, Steve Hendrix', 'title': 'Documents found on fighters reveal Hamas capabilities, bloody plans', 'description': 'A Hamas document lists instructions on operating weapons, identifies vulnerabilities in Israeli military equipment and offers tips on killing with a knife.', 'url': 'https://www.washingtonpost.com/world/2023/10/21/hamas-documents-plans-israel-attack/', 'urlToImage': 'https://www.washingtonpost.com/wp-apps/imrs.php?src=https://arc-anglerfish-washpost-prod-washpost.s3.amazonaws.com/public/PXRH2F2PJJNFDE4LTJ2BZARK3I_size-normalized.jpg&w=1440', 'publishedAt': '2023-10-22T00:06:35Z', 'content': 'Comment on this story\\r\\nComment\\r\\nAdd to your saved stories\\r\\nSave\\r\\nASHKELON, Israel A Hamas field manual obtained by The Washington Post and other documents found in the wake of the groups brutal attac… [+6736 chars]'}, {'source': {'id': 'the-washington-post', 'name': 'The Washington Post'}, 'author': 'David Nakamura', 'title': 'Biden hails freed U.S. hostages as family awaits reunion', 'description': 'Uri Raanan said he hopes to be reunited soon with daughter Natalie, 17, who was freed by Hamas militants after 13 days in captivity.', 'url': 'https://www.washingtonpost.com/national-security/2023/10/21/judith-natalie-raanan-hamas-hostages/', 'urlToImage': 'https://www.washingtonpost.com/wp-apps/imrs.php?src=https://arc-anglerfish-washpost-prod-washpost.s3.amazonaws.com/public/EPM6MQDNYC3LXKEXDGPLIVKF2U.jpg&w=1440', 'publishedAt': '2023-10-21T21:26:56Z', 'content': 'Comment on this story\\r\\nComment\\r\\nAdd to your saved stories\\r\\nSave\\r\\nPresident Biden told the American mother and daughter released by Hamas militants after 13 days in captivity that he was just delighte… [+3238 chars]'}, {'source': {'id': 'the-washington-post', 'name': 'The Washington Post'}, 'author': 'Kareem Fahim', 'title': 'In Gaza war, Qatar revisits role as regional mediator', 'description': 'Small but influential, Qatar again flexes its role as a regional mediator.', 'url': 'https://www.washingtonpost.com/world/2023/10/21/qatar-gaza-hostages-american/', 'urlToImage': 'https://www.washingtonpost.com/wp-apps/imrs.php?src=https://arc-anglerfish-washpost-prod-washpost.s3.amazonaws.com/public/KJL3OQ4AXCE62FAJRFYWJ7275I_size-normalized.jpg&w=1440', 'publishedAt': '2023-10-21T20:29:57Z', 'content': 'Comment on this story\\r\\nComment\\r\\nAdd to your saved stories\\r\\nSave\\r\\nAfter the release Friday of two Americans held by Hamas, officials in Israel distributed images of the women walking hand-in-hand to f… [+4785 chars]'}, {'source': {'id': 'the-washington-post', 'name': 'The Washington Post'}, 'author': 'David Maraniss, Sally Jenkins', 'title': 'Jim Jordan, a relentless wrestler  on the mat and in Congress', 'description': 'Jim Jordan is an unyielding combatant, whether grappling on the mat or in the halls of Congress. A wrestling champion, he coached wrestling at Ohio State during the sex abuse scandal before entering politics.', 'url': 'https://www.washingtonpost.com/politics/interactive/2023/jim-jordan/', 'urlToImage': 'https://www.washingtonpost.com/wp-apps/imrs.php?src=https://arc-anglerfish-washpost-prod-washpost.s3.amazonaws.com/public/XEQNWOHS7JPPOBXFDNLL5PWJHM.jpg&w=1200', 'publishedAt': '2023-10-21T10:00:39Z', 'content': 'His wrestlers at Ohio State called him Jimmy and idolized him as an Olympic-level legend in their ancient sport. During the nine seasons that Jim Jordan served as assistant coach, they admired his pr… [+64968 chars]'}]}\n"
          ]
        }
      ]
    },
    {
      "cell_type": "code",
      "source": [
        "# sources = newsapi.get_sources()\n",
        "# sources\n",
        "\n",
        "# # /v2/everything\n",
        "# article = newsapi.get_everything(q='Comment on this story\\r\\nComment\\r\\nRep. Kevin McCarthy (R-Calif.) said Monday that he is willing to resume serving as House speaker if enough of the Republicans who voted in favor of his ouster last')\n",
        "\n",
        "# /v2/top-headlines/sources\n",
        "# sources = newsapi.get_sources()"
      ],
      "metadata": {
        "id": "nfmkTqPiGa02"
      },
      "execution_count": 12,
      "outputs": []
    },
    {
      "cell_type": "code",
      "source": [
        "top_headlines_list = list(top_headlines.items())[2][1]"
      ],
      "metadata": {
        "id": "otN_F-5YEQ9k"
      },
      "execution_count": 13,
      "outputs": []
    },
    {
      "cell_type": "code",
      "source": [
        "def extract_text_from_url(url):\n",
        "  article = newspaper.Article(url)\n",
        "  # article.html\n",
        "  article.download()\n",
        "  article.parse()\n",
        "  return article.text, article.title, article.authors, article.publish_date, article.html"
      ],
      "metadata": {
        "id": "4JdU_NMZZGb_"
      },
      "execution_count": 14,
      "outputs": []
    },
    {
      "cell_type": "code",
      "source": [
        "import re\n",
        "def extract_from_first_caps(text):\n",
        "    # Regular expression to match a word that's all caps after a newline\n",
        "    pattern = r'(?<=\\n\\n)\\b([A-Z]{2,})\\b'\n",
        "\n",
        "    # Find all all-caps words\n",
        "    matches = re.findall(pattern, text)\n",
        "\n",
        "    # If no matches, return None\n",
        "    if not matches:\n",
        "        return None\n",
        "\n",
        "    # Find the position of the first all-caps word after a newline and extract from that position till the end\n",
        "    start_pos = text.find(matches[0])\n",
        "\n",
        "    return text[start_pos:]\n",
        "\n",
        "def extract_after_double_newline(text):\n",
        "    # Split the text at the first occurrence of \\n\\n\n",
        "    parts = text.split('\\n\\n', 1)\n",
        "\n",
        "    # If there's a second part after splitting, return it\n",
        "    if len(parts) > 1:\n",
        "        return parts[1]\n",
        "    else:\n",
        "        return None\n",
        "\n",
        "def remove_ads(text):\n",
        "  return text.replace(\"Advertisement\\n\\n\", \"\")\n",
        "\n",
        "def remove_double_spaces(text):\n",
        "  return re.sub(r' +', ' ', text)"
      ],
      "metadata": {
        "id": "sLSX-pjbHTz7"
      },
      "execution_count": 153,
      "outputs": []
    },
    {
      "cell_type": "code",
      "source": [
        "top_headlines_list"
      ],
      "metadata": {
        "colab": {
          "base_uri": "https://localhost:8080/"
        },
        "id": "pHrIWAStFaq9",
        "outputId": "66ffe4a1-c139-4bfa-ca74-94e9eec862ca"
      },
      "execution_count": 154,
      "outputs": [
        {
          "output_type": "execute_result",
          "data": {
            "text/plain": [
              "[{'source': {'id': 'the-washington-post', 'name': 'The Washington Post'},\n",
              "  'author': None,\n",
              "  'title': 'The scene during the First Annual Kalorama Park Halloween Dog Parade',\n",
              "  'description': 'Over one hundred people gathered to watch costume contest judging, during the First Annual Kalorama Park Halloween Dog Parade, In Washington.',\n",
              "  'url': 'https://www.washingtonpost.com/dc-md-va/interactive/2023/scene-during-first-annual-kalorama-park-halloween-dog-parade/',\n",
              "  'urlToImage': 'https://img.washingtonpost.com/wp-apps/imrs.php?src=https://arc-anglerfish-washpost-prod-washpost.s3.amazonaws.com/public/2GERU7LF74YEXCXXEXJABMW7YM.JPG&w=1200',\n",
              "  'publishedAt': '2023-10-22T15:07:40.2249637Z',\n",
              "  'content': 'Oct. 21 | Washington\\r\\nOver one hundred people gather to watch costume contest judging, during the First Annual Kalorama Park Halloween Dog Parade, in Kalorama Park near the Adams Morgan neighborhood.… [+36 chars]'},\n",
              " {'source': {'id': 'the-washington-post', 'name': 'The Washington Post'},\n",
              "  'author': 'Joshua Keating',\n",
              "  'title': 'Sanctions can be a tool of peace. But they’re often a weapon, too.',\n",
              "  'description': 'The global economy is a baffling battlefield. These three new books are here to help us understand it.',\n",
              "  'url': 'https://www.washingtonpost.com/books/2023/10/22/sanctions-economic-war-books/',\n",
              "  'urlToImage': 'https://www.washingtonpost.com/wp-apps/imrs.php?src=https://arc-anglerfish-washpost-prod-washpost.s3.amazonaws.com/public/VCZ3KIHV2REXZIR7T5QJUNG4T4_size-normalized.jpg&w=1440',\n",
              "  'publishedAt': '2023-10-22T15:00:03Z',\n",
              "  'content': 'Comment on this story\\r\\nComment\\r\\nAdd to your saved stories\\r\\nSave\\r\\nOn the night of Sept. 6, shortly after the announcement of $1 billion in new U.S. funding for Ukraine, Secretary of State Antony Blink… [+17129 chars]'},\n",
              " {'source': {'id': 'the-washington-post', 'name': 'The Washington Post'},\n",
              "  'author': \"Caroline O'Donovan, Taylor Telford, Gerrit De Vynck\",\n",
              "  'title': 'Israel-Gaza war prompts U.S. employees to demand companies take a side',\n",
              "  'description': 'A new website documents “Anti-Israel Employees,” prompting some pro-Palestinian employees to say they’re being targeted.',\n",
              "  'url': 'https://www.washingtonpost.com/technology/2023/10/22/google-amazon-meta-gaza-israel-contracts/',\n",
              "  'urlToImage': 'https://www.washingtonpost.com/wp-apps/imrs.php?src=https://arc-anglerfish-washpost-prod-washpost.s3.amazonaws.com/public/QPEJKF4SEGBAAM32TCCZ3GSO5Y_size-normalized.jpg&w=1440',\n",
              "  'publishedAt': '2023-10-22T11:00:10Z',\n",
              "  'content': 'Comment on this story\\r\\nComment\\r\\nAdd to your saved stories\\r\\nSave\\r\\nSAN FRANCISCO A California-based Google designer was among hundreds of people shocked to find their names on a public list being circu… [+12355 chars]'},\n",
              " {'source': {'id': 'the-washington-post', 'name': 'The Washington Post'},\n",
              "  'author': 'Danielle Douglas-Gabriel',\n",
              "  'title': 'He rushed from Maryland to Israel to fight. On Friday, he was killed.',\n",
              "  'description': 'Rockville native and Israeli reservist Omer Balva ‘brought a lot of light to the world.’',\n",
              "  'url': 'https://www.washingtonpost.com/world/2023/10/22/omer-balva-rockville-israel-idf-gaza-lebanon/',\n",
              "  'urlToImage': 'https://www.washingtonpost.com/wp-apps/imrs.php?src=https://arc-anglerfish-washpost-prod-washpost.s3.amazonaws.com/public/T5HR2CFKERHWZIQNAM5WMTOYEU.jpg&w=1440',\n",
              "  'publishedAt': '2023-10-22T11:00:10Z',\n",
              "  'content': 'Comment on this story\\r\\nComment\\r\\nAdd to your saved stories\\r\\nSave\\r\\nOmer Balva, a 22-year-old Rockville native, was back from his home in Israel. Then, during his U.S. vacation earlier this month, Hamas… [+4081 chars]'},\n",
              " {'source': {'id': 'the-washington-post', 'name': 'The Washington Post'},\n",
              "  'author': 'Greg Jaffe, Patrick Marley',\n",
              "  'title': 'The pandemic is over in this Michigan county. The mistrust never ended.',\n",
              "  'description': 'Sierra Schuetz’s government job feeding the poor in conservative Ottawa County became a passion. Could it survive the suspicions that multiplied alongside covid?',\n",
              "  'url': 'https://www.washingtonpost.com/politics/2023/10/22/ottawa-county-michigan-covid-mistrust/',\n",
              "  'urlToImage': 'https://www.washingtonpost.com/wp-apps/imrs.php?src=https://arc-anglerfish-washpost-prod-washpost.s3.amazonaws.com/public/DAGIQAGUNHSBQJCEZDXXSWCEHE_size-normalized.JPG&w=1440',\n",
              "  'publishedAt': '2023-10-22T10:00:19Z',\n",
              "  'content': 'Comment on this story\\r\\nComment\\r\\nAdd to your saved stories\\r\\nSave\\r\\nHOLLAND, Mich. Every few hours, Sierra Schuetz checked to see if Ottawa Countys leaders had posted a new version of the 2024 budget on… [+25875 chars]'},\n",
              " {'source': {'id': 'the-washington-post', 'name': 'The Washington Post'},\n",
              "  'author': 'Isaac Stanley-Becker, Amy Gardner, Josh Dawsey',\n",
              "  'title': 'Sidney Powell was Trump’s biggest ‘fighter.’ Now she’s a big threat.',\n",
              "  'description': 'Powell, who was angry that Trump didn’t act on her counsel, is the now government’s most prominent asset in its quest to convict him.',\n",
              "  'url': 'https://www.washingtonpost.com/national-security/2023/10/21/sidney-powell-trump-georgia-election-case/',\n",
              "  'urlToImage': 'https://www.washingtonpost.com/wp-apps/imrs.php?src=https://arc-anglerfish-washpost-prod-washpost.s3.amazonaws.com/public/HHKAFZBU5YI6XKMXD5GFHUVHI4.jpg&w=1440',\n",
              "  'publishedAt': '2023-10-22T00:43:59Z',\n",
              "  'content': 'Comment on this story\\r\\nComment\\r\\nAdd to your saved stories\\r\\nSave\\r\\nIn the weeks after the 2020 election, a self-assured lawyer with a Southern drawl quickly climbed the ranks of the movement trying to … [+16144 chars]'},\n",
              " {'source': {'id': 'the-washington-post', 'name': 'The Washington Post'},\n",
              "  'author': 'Loveday Morris, Steve Hendrix',\n",
              "  'title': 'Documents found on fighters reveal Hamas capabilities, bloody plans',\n",
              "  'description': 'A Hamas document lists instructions on operating weapons, identifies vulnerabilities in Israeli military equipment and offers tips on killing with a knife.',\n",
              "  'url': 'https://www.washingtonpost.com/world/2023/10/21/hamas-documents-plans-israel-attack/',\n",
              "  'urlToImage': 'https://www.washingtonpost.com/wp-apps/imrs.php?src=https://arc-anglerfish-washpost-prod-washpost.s3.amazonaws.com/public/PXRH2F2PJJNFDE4LTJ2BZARK3I_size-normalized.jpg&w=1440',\n",
              "  'publishedAt': '2023-10-22T00:06:35Z',\n",
              "  'content': 'Comment on this story\\r\\nComment\\r\\nAdd to your saved stories\\r\\nSave\\r\\nASHKELON, Israel A Hamas field manual obtained by The Washington Post and other documents found in the wake of the groups brutal attac… [+6736 chars]'},\n",
              " {'source': {'id': 'the-washington-post', 'name': 'The Washington Post'},\n",
              "  'author': 'David Nakamura',\n",
              "  'title': 'Biden hails freed U.S. hostages as family awaits reunion',\n",
              "  'description': 'Uri Raanan said he hopes to be reunited soon with daughter Natalie, 17, who was freed by Hamas militants after 13 days in captivity.',\n",
              "  'url': 'https://www.washingtonpost.com/national-security/2023/10/21/judith-natalie-raanan-hamas-hostages/',\n",
              "  'urlToImage': 'https://www.washingtonpost.com/wp-apps/imrs.php?src=https://arc-anglerfish-washpost-prod-washpost.s3.amazonaws.com/public/EPM6MQDNYC3LXKEXDGPLIVKF2U.jpg&w=1440',\n",
              "  'publishedAt': '2023-10-21T21:26:56Z',\n",
              "  'content': 'Comment on this story\\r\\nComment\\r\\nAdd to your saved stories\\r\\nSave\\r\\nPresident Biden told the American mother and daughter released by Hamas militants after 13 days in captivity that he was just delighte… [+3238 chars]'},\n",
              " {'source': {'id': 'the-washington-post', 'name': 'The Washington Post'},\n",
              "  'author': 'Kareem Fahim',\n",
              "  'title': 'In Gaza war, Qatar revisits role as regional mediator',\n",
              "  'description': 'Small but influential, Qatar again flexes its role as a regional mediator.',\n",
              "  'url': 'https://www.washingtonpost.com/world/2023/10/21/qatar-gaza-hostages-american/',\n",
              "  'urlToImage': 'https://www.washingtonpost.com/wp-apps/imrs.php?src=https://arc-anglerfish-washpost-prod-washpost.s3.amazonaws.com/public/KJL3OQ4AXCE62FAJRFYWJ7275I_size-normalized.jpg&w=1440',\n",
              "  'publishedAt': '2023-10-21T20:29:57Z',\n",
              "  'content': 'Comment on this story\\r\\nComment\\r\\nAdd to your saved stories\\r\\nSave\\r\\nAfter the release Friday of two Americans held by Hamas, officials in Israel distributed images of the women walking hand-in-hand to f… [+4785 chars]'},\n",
              " {'source': {'id': 'the-washington-post', 'name': 'The Washington Post'},\n",
              "  'author': 'David Maraniss, Sally Jenkins',\n",
              "  'title': 'Jim Jordan, a relentless wrestler  on the mat and in Congress',\n",
              "  'description': 'Jim Jordan is an unyielding combatant, whether grappling on the mat or in the halls of Congress. A wrestling champion, he coached wrestling at Ohio State during the sex abuse scandal before entering politics.',\n",
              "  'url': 'https://www.washingtonpost.com/politics/interactive/2023/jim-jordan/',\n",
              "  'urlToImage': 'https://www.washingtonpost.com/wp-apps/imrs.php?src=https://arc-anglerfish-washpost-prod-washpost.s3.amazonaws.com/public/XEQNWOHS7JPPOBXFDNLL5PWJHM.jpg&w=1200',\n",
              "  'publishedAt': '2023-10-21T10:00:39Z',\n",
              "  'content': 'His wrestlers at Ohio State called him Jimmy and idolized him as an Olympic-level legend in their ancient sport. During the nine seasons that Jim Jordan served as assistant coach, they admired his pr… [+64968 chars]'}]"
            ]
          },
          "metadata": {},
          "execution_count": 154
        }
      ]
    },
    {
      "cell_type": "code",
      "source": [
        "articles = []\n",
        "for headline in top_headlines_list:\n",
        "  headline_url = (headline['url'])\n",
        "  articles.append(extract_text_from_url(headline_url))"
      ],
      "metadata": {
        "id": "CpLbapcJZ0-G"
      },
      "execution_count": 148,
      "outputs": []
    },
    {
      "cell_type": "code",
      "source": [
        "articles[4][0]"
      ],
      "metadata": {
        "colab": {
          "base_uri": "https://localhost:8080/",
          "height": 143
        },
        "id": "oiiIgISMKsdg",
        "outputId": "eef14600-f871-49fe-de1f-b86216699d7c"
      },
      "execution_count": 149,
      "outputs": [
        {
          "output_type": "execute_result",
          "data": {
            "text/plain": [
              "'Democracy in America The pandemic is over in this Michigan county. The mistrust never ended. Sierra Schuetz’s government job feeding the poor in conservative Ottawa County became a passion. Could it survive the suspicions that multiplied alongside covid? Sierra Schuetz and her boyfriend, Fred Flipse, take a moment while organizing food at Community Action House in Holland, Mich., on Sept. 26. (Evan Cobb for The Washington Post)\\n\\nListen 24 min Share Comment on this story Comment Add to your saved stories Save\\n\\nHOLLAND, Mich. — Every few hours, Sierra Schuetz checked to see if Ottawa County’s leaders had posted a new version of the 2024 budget — one that she hoped might save her job. She worked for the county’s health department, running a program that provided free food to about 22,000 low-income residents each year. In late September, Schuetz was steering a van full of bags of fresh produce bound for a nearby farm where about 75 migrant workers were waiting.\\n\\nShe was 31 years old, six months pregnant and increasingly worried about how she was going to provide for her own family. On Sept. 26 — just six days away — the county’s board of commissioners was set to vote on the health department’s budget. If it passed as proposed, Schuetz’s bosses told her that her job would be eliminated.\\n\\n“I get a rush of fear just thinking about it,” she said.\\n\\nAdvertisement\\n\\nHer van sped by cornfields, a Cambodian Buddhist temple and a few Trump flags fluttering in the early fall breeze. Eight of the 11 commissioners on the county board that would decide her fate were political newcomers who had channeled voter rage over pandemic-era restrictions into a successful insurgent campaign last fall.\\n\\nThe new commissioners, all Republicans, had been trying since January to fire the head of the health department and replace her with a safety manager from a local HVAC company who had risen to prominence as a critic of mask mandates. They had blocked the county government from accepting grants that mentioned the goals of the Centers for Disease Control and Prevention or World Health Organization. And they had passed a measure questioning the safety of vaccines.\\n\\nNow they wanted to return the health department’s budget to pre-pandemic levels, which they hoped would help return their county to a moment before the coronavirus disrupted their lives and their community.\\n\\nSkip to end of carousel The fight for the soul of a conservative county arrow left arrow right Washington Post reporters Greg Jaffe and Patrick Marley have made eight trips to Ottawa County, Mich., since fall 2022. They have documented the ways a tumultuous moment for the nation’s politics and the Republican Party have shaken up this fast-growing, right-leaning county of about 300,000 people. A story on the eve of the 2022 midterm elections focused on Justin Roebuck, who oversees elections in the county. The Republican is a throwback to an earlier era in GOP politics. He sought to win over the skeptics and election deniers in his county, which then-President Donald Trump carried in 2020 by 21 percentage points, with patience and civility. Eight hard-line Republicans took their county board seats earlier this year, vowing to “thwart tyranny” and defend the constitution. On their first day in office, they fired several long-serving county staffers and set about making sweeping changes. Ottawa County quickly became a case study in what happens when county government is consumed by ideological battles over race, religion and American history. Since January, culture war battles over abortion, gay rights and gender identity have often overshadowed the unremarkable work of county government. Heather Alberda , who spent 20 years developing county programs to lower teen pregnancy and curb the spread of sexually transmitted disease, felt the sting of this shift. The new hard-line commissioners accused her of promoting abortion and sexual perversion. 1 / 4 End of carousel Covid had killed more than a million Americans and triggered one of the largest government interventions into everyday lives since World War II. Even though deaths caused by the virus have declined dramatically, the anger, mistrust and disinformation that grew out of the government’s response were still radiating through the nation’s politics at all levels. In Ottawa County, a fast-growing, middle-class community of about 300,000 people on the Lake Michigan shore, battles over mask mandates and whether to get vaccinated had divided families and torn apart church congregations. They had eroded trust not only in medical experts and government institutions, but also among neighbors and friends. They had turned the county, which voted to reelect Donald Trump by 21 points, into a place where the Republican Party’s future was taking shape. No local institution faced more pressure than the county’s 100-person public health department. Before the pandemic, its workers had drawn little attention. Health department employees inspected restaurants and sewage systems. They tracked communicable disease outbreaks and immunized children. Lately, though, the new county commissioners and their supporters had come to see the department’s workers as foot soldiers in a much larger army of unelected experts and unquestioning bureaucrats whose power needed to be checked.\\n\\nOne of those workers was Schuetz. Her van pulled to a stop in a dusty parking lot where the migrant farmworkers were gathering after a day in the fields. The farmworkers, most of whom came from Mexico, wore hoodies to protect them from the sun and the chemicals. Schuetz handed each of them a bag of onions, tomatoes, corn and watermelon that she had purchased that morning from a local outdoor market.\\n\\n“Thanks for the food,” one of the workers said.\\n\\n“Thank you for the work you’re doing for our farmers,” Schuetz replied.\\n\\nSoon the food was gone and Schuetz was back in her van, struggling to understand why her job, which had nothing to do with the coronavirus, mask mandates or vaccines, was suddenly at risk.\\n\\n“The problem isn’t that there’s not enough money,” she said. Tax revenue was surging. “It’s not that I am doing a bad job or that the work doesn’t matter,” she continued. “It’s this other reason that’s so far away from who I am and what I do.”\\n\\nShe worried she was destined to become a casualty in someone else’s ideological war.\\n\\nAdvertisement\\n\\nTo understand why Schuetz feared she could lose her job, it helps to go back two years to a time when the coronavirus pandemic was still raging and Allison Miedema, now one of the Ottawa County commissioners, decided to quit hers and become a politician.\\n\\nMiedema had spent more than 20 years teaching, first to at-risk children in the public schools and then at a private Christian school near her home. The pandemic had put deep strains on her relationships with some of her closest family members, especially with her youngest brother, Joel VanderSchuur, a doctor in Portland, Ore., whose days were consumed caring for patients who were dying of the virus.\\n\\nIn April 2021, more than a year after covid cases first emerged in the United States, Miedema and her husband were suffering from fever and fatigue. VanderSchuur urged them to take a coronavirus test. He knew his sister and her husband were young, healthy and likely to recover quickly. But he was concerned for their mother, who was in her late 60s and had been driving Miedema’s son to school every day. She had only received one dose of the vaccine, which was just being rolled out.\\n\\n“This is literally my job, and I can’t even count how many patients I have had die or stay on a ventilator due to COVID,” VanderSchuur texted her that April. “I’m not meaning to upset. This just affects me deeply on a day-to-day basis.”\\n\\nMiedema wouldn’t commit to taking a test. Her son, she said, had recovered from his fever, was symptom-free and unlikely to be contagious.\\n\\nOver the next few days, their exchanges grew tense. She complained that her brother was treating her like an obstreperous patient rather than a loving sibling. And she was hurt by his suggestion that her actions were selfish and putting their parents are risk. “All I’m asking is that you wouldn’t be so quick to judge,” she wrote. “Things are often more gray than black and white. Especially this year.”\\n\\nTo VanderSchuur, though, her obligations to her family and her community in the middle of a deadly pandemic were clear.\\n\\n“I cannot understand why you won’t get tested,” he wrote to her. “I am completely out of my mind thinking about how you could be so cavalier when it is something that is so simple to do. I have always known you to be a caring person …. You could literally save lives by getting tested and yet you choose not to! How is this Christian?!!!”\\n\\nA few months later, in August 2021, Gov. Gretchen Whitmer (D) chose not to reinstate a school mask mandate, leaving the decision to local officials. In Ottawa County, the health department required children in sixth grade and under to wear masks until they were eligible for the vaccine. Miedema declined multiple requests for comment for this story but had explained her thinking and what came next in speeches.\\n\\nShortly before the school year began, she said, she lay awake in the middle of the night crying. As a teacher with a degree in early childhood development, Miedema believed the masks hurt children and hindered their social and intellectual growth. As a citizen, she believed mandates violated the country’s founding principles.\\n\\nShe prayed for guidance. God, she said, replied in a “non-audible voice.”\\n\\n“He was asking me to resign from the job I loved,” she recalled.\\n\\nAdvertisement\\n\\nOn Aug. 24, 2021, about 1,000 people, including Miedema, angrily protested the mandate at a county board meeting that lasted nearly seven hours. Miedema shared the story of her resignation during the public comment portion of the meeting.\\n\\nAlso in the crowd that day was Joe Moss, who had formed a group called Ottawa Impact to recruit and raise money for first-time candidates who would run with them to unseat the incumbent county commissioners. Moss’s path into politics began a year earlier in the fall of 2020, after state and county officials learned of a covid outbreak at his daughter’s school and ordered its leaders to comply with the governor’s mask mandate. They refused, and the officials padlocked the school’s doors for more than a week. Moss declined to comment for this story.\\n\\nMiedema was asked if she was interested in joining Ottawa Impact’s slate of candidates. The months leading up to the offer had been trying for her. She and her youngest brother were barely speaking. She had quit her job. Miedema was vetted by Ottawa Impact and agreed to run.\\n\\nSoon she had new friends, a new mission and a new calling, born of her frustrations during the pandemic. One evening in April 2022, she stood at the pulpit of the Lighthouse Baptist Church with the other Ottawa Impact candidates for a political rally. The pews were packed.\\n\\nMiedema talked about her decision to leave teaching and her governing philosophy.\\n\\n“I have a great desire to stand up to tyranny,” she told the crowd, “to stand up against anything that goes against God’s loving rules for His people.”\\n\\nAdvertisement\\n\\nOnce elected, Miedema’s stand began with a motion to remove Adeline Hambley, the head of the health department.\\n\\nHambley had been chosen to take over from her retiring boss in late 2022 by the outgoing board. On Jan. 3, shortly after Miedema was sworn into office, she introduced a resolution to replace Hambley with Nathaniel Kelly, a safety manager with a local HVAC company who had built a following among Michigan conservatives for his criticism of mask mandates and questioning of the safety of the coronavirus vaccine.\\n\\nMiedema said little from the dais about her motion, which passed easily. A few days later, she explained her thinking to one of her constituents, who complained that Kelly was unqualified for the role.\\n\\n“Over the past few years, I have seen science become political in nature — one where many well-known doctors and scientists have been silenced,” Miedema wrote in an email. These “medical professionals” were ridiculed for their views and pressured to abandon “the oath they had taken on behalf of their patients and community,” she continued.\\n\\nKelly wouldn’t let the medical establishment cow him and would prioritize “citizen’s rights and healthcare freedom,” Miedema wrote. These were principles that she and the new county board members believed had been compromised during the pandemic. They were the values the new board members had vowed to protect.\\n\\nHambley sued the board in February, arguing that the commissioners could not remove her as county health officer without cause. While she clung to her job, Schuetz and her colleagues inside the health department clung to the hope that the new board members would come to see merit in their work.\\n\\nInstead, the relationship grew more fraught. At board meetings, the new commissioners criticized health department initiatives that aimed to curb the spread of sexually transmitted infections through education and free condoms. The programs, commissioners said, encouraged irresponsible sexual behavior.\\n\\nThey blocked the department from accepting state grants that sought to reduce health disparities rooted in racial and economic differences. Sylvia Rhodea, the board’s vice chair, disparaged these “health equity” grants as “Marxist.” Health department officials insisted that they were integral to their work.\\n\\n“Public health cannot get away from health equity,” Sandra Lake, the department’s community health manager, told Rhodea at a board meeting this summer. “It would be like telling a firefighter not to use water.”\\n\\nSchuetz understood why the department’s actions had generated so much anger in the county. Health officials were responding to a once-in-a-century pandemic that killed nearly 1,000 Ottawa County residents, according to state data. Their actions — mask mandates, contact tracing and vaccine promotion — had largely mirrored those of neighboring counties and were in line with state and federal recommendations.\\n\\nAdvertisement\\n\\nBut to county residents, who doubted the seriousness of the coronavirus or were suspicious of government, the response seemed unnecessary and even punitive.\\n\\n“A force was used during covid. There were new rules. There was social pressure,” Schuetz said. “Now a new force has formed [in the county] to meet it.”\\n\\nSchuetz believed that if the new board members made an effort to meet her colleagues and learn about their work, they could break through the suspicion and mistrust.\\n\\nShe wanted to tell them about how she had fallen in love with farming and fresh food. She and her boyfriend, Fred Flipse, were in high school in Ottawa County when they befriended a local organic farmer who invited them to help with his harvest. At 19, they dropped out of community college to work on organic farms across the United States and then travel the world.\\n\\nShe wanted to show the commissioners the programs she had started during her two years with the health department. As the coordinator for Ottawa Food, Schuetz worked with 45 food pantries across the county. One program she launched this year had rescued more than 1 million pounds of food from restaurants and grocery stores. Refrigerated trucks ferried the food, which was on the verge of spoiling, to churches and nonprofits. Another, paid for with a $120,000 state grant, provided migrant farmworkers in the county with fresh produce, rice and dried beans. Schuetz purchased the food from local farmers.\\n\\nShare this article Share\\n\\nShe wished the commissioners could see the meaning and joy she found in bringing healthy food to people who were hungry and struggling. “These aren’t just jobs where you clock in and clock out,” she said. “This is devotional work.”\\n\\nBut the opportunity never came. With each passing week, the chances of repairing the damage and mistrust wrought by the pandemic and the country’s increasingly poisonous politics seemed to grow more remote. “It feels like they don’t want to learn or connect with us,” Schuetz eventually concluded. “And that’s devastating.”\\n\\nThis summer, Miedema met up with her brother, who was visiting from Portland. They’d barely spoken since their blowup over covid two years earlier.\\n\\nThe siblings grew up together in a tidy, rustic home surrounded by small family farms and nurseries. But their childhoods in Ottawa County were marked by stark differences. VanderSchuur, who is gay, struggled with his sexuality. “I felt like I was an awful person for having these feelings,” he said.\\n\\nAt 16, he fled to California in his parents’ car with plans to see the ocean and end his life. Eight days later, he got into a minor car accident. A police officer ran his plates and alerted his parents, who brought him home. After he came out as gay, his friends and some of his favorite teachers stopped talking to him. “I felt truly vilified,” he said. Eventually, he found a new circle of friends at the local public university, Grand Valley State. His parents, who initially struggled with his sexuality, embraced him. He attended medical school in Detroit, married and built a new life out West.\\n\\nMiedema had spent her entire life in Ottawa County. Like her brother, she attended Grand Valley State. Upon graduation, she began teaching preschool. In campaign speeches, she described herself as “a child of the one true king … Jesus Christ,” a wife who had married her “best friend” and a mother to her teenage son.\\n\\nAdvertisement\\n\\nMiedema invited VanderSchuur to her house; they went for two long walks together in the woods with her son and kayaked next to each other during a family trip. VanderSchuur decided it was best to “try to thaw the relationship,” steering clear of any conversations that touched on politics or the pandemic.\\n\\nA few weeks after returning to Portland, VanderSchuur learned that his sister had blasted the health department for participating in a local Pride festival that included a drag queen reading a children’s story. Department nurses were there to administer the mpox vaccine to a vulnerable population. Miedema said the festival and story hour were “promoting sexual promiscuity” and normalizing deviance in ways that would further the spread of disease.\\n\\nVanderSchuur saw the events as lifelines for people like him. “That would have been an amazing thing for me to have as a kid,” he said. “I was so isolated.”\\n\\nThis time, though, he resisted the urge to confront his sister. He didn’t think Miedema was anti-gay. She and her husband had attended his wedding in Portland several years earlier. But he believed the pandemic had changed her, darkening her views of the country, making her more suspicious and less willing to listen and seek compromise.\\n\\nThat same mistrust of government, the courts and even their own employees animated the new board members’ approach to leading the county.\\n\\nMost county commissions focused on things like roads, parks and public safety. The new Ottawa board members had spent much of their first year in office passing resolutions that aimed to safeguard citizens’ freedoms. In May, they voted to declare Ottawa a “constitutional county” and resist any federal or state efforts to constrain citizens’ rights — especially their right to bear arms.\\n\\nIn August, they passed a resolution telling the health department to provide more information to parents about how to get vaccine exemptions and waivers for their children. During the debate, Miedema condemned government officials and employers who pressured people to get vaccinated during the pandemic.\\n\\n“Government’s role is not to threaten, bully, coerce or bribe,” she said. “It’s to defend the freedoms we have, to stand in the gap.”\\n\\nThe resolutions were largely symbolic. Most of the board’s power came from its ability to choose how to spend the county’s budget. In late August, the commissioners took aim at health department spending. Initially, Hambley was given two days to cut the department’s $18 million spending plan by more than 50 percent. She said the reduction would have made it impossible for the department to meet minimum state and federal service and spending levels that are required to receive outside grants. The department, she warned, would run out of money to pay its employees in a matter of weeks.\\n\\nAfter Hambley was told to proceed anyway, she took to social media calling the board’s actions “retaliatory,” “fiscally and legally irresponsible” and a “threat to public health.”\\n\\nMoss, the board chair, accused Hambley of “inciting fear and panic” in an effort to undermine her bosses. A few days later, hundreds of people gathered on the lawn in front of the department, chanting, “We support you!” as the department’s workers left at 5 p.m. Schuetz and her co-workers, many of whom were in tears, waded into the crowd to thank them and headed home for the day.\\n\\nBy late September, the county’s leaders had backed off their earlier, more severe cuts and were proposing a total health department budget of $14.4 million, down about 20 percent from the previous year’s spending.\\n\\nThe new budget rejected about $2.2 million in federal covid grants that helped pay for immunizations and could be used to help track the spread of hundreds of communicable diseases. It also cut about $400,000 from the department’s health education division, which housed programs that aimed to curb youth suicide, substance abuse and the spread of sexually transmitted disease. The Ottawa Food program that Schuetz oversaw was part of that division.\\n\\nCounty health officials pressed the board to explain the rationale behind the cuts. The clearest answer came in a news release in which Moss described how the pandemic had awakened the county’s residents to the “tyranny of public health.” The health department’s misdeeds, he argued, extended beyond its covid response.\\n\\nIn Moss’s view, liberal forces throughout government, academia and the nonprofit world were using the department to foist their agendas on his conservative county. “Climate change, gender affirming care, abortion, racial equity and social justice are increasingly identified as public health concerns,” he wrote.\\n\\nCutting the department’s budget was one way to fight the spread of these dangerous ideas in the place he called home and had promised to defend.\\n\\nThe full board was scheduled to vote on the proposed budget at its next meeting, scheduled for Sept. 26. Schuetz planned to attend. She wanted to say something during the public comment portion of the meeting, before the vote.\\n\\nSchuetz knew her chances of saving her $55,000-a-year job were slim. But that wasn’t her only goal. She hoped her words might help the commissioners to see her and her colleagues not just as line items on a budget or as their adversaries, but as people trying to address real needs and real pain in the place where they all lived.\\n\\nAdvertisement\\n\\nSchuetz finished work at the health department and rushed off to teach a yoga class that she’d picked up as a side gig to bring in a little extra money. Her helmet from another part-time job — working for the fire department — sat in her car’s back seat.\\n\\nShe arrived at the county government complex around 7 p.m. The meeting that would decide her fate was already underway.\\n\\nInside, she signed up for public comment and the clerk handed her a slip to mark her place — No. 66 on the list. The county boardroom was already at capacity, so she found a seat in the overflow area, where a live stream of the meeting was playing on a screen at the front of the room.\\n\\nCounty residents addressed the board in rushed, often angry, three-minute bursts.\\n\\nSome speakers attacked the budget cuts and those who supported them: “Don’t be complicit in this heartless and cruel plan!” said Marla Walters, a 67-year-old resident of Holland Township.\\n\\nSome thanked the new board members for standing up to powerful forces seeking to undermine the country’s democracy: “I pray for every single one of you every day,” said Joel Buck, a project manager with a local safety equipment manufacturer. “The amount of hate and just evil that comes back at you is beyond processing, just the vulgarity. There’s no discourse we can have in our country any longer. It’s just one side pitted against the other.”\\n\\nSchuetz was having a hard time sitting still. She had planned to write her speech the night before but had been too anxious to focus. So, she found a quiet spot in the hall, near the bathroom, and started to outline her thoughts on her cellphone. The meeting was entering its third hour.\\n\\nNo. 55: “No single department has exerted more power and control over the county than the health department.”\\n\\nNo. 56: “Only a fool would say that covid is over.”\\n\\nNo. 58: “I am sorry you believed the lies about covid! It was a hoax!”\\n\\nSchuetz looked up from her draft: “I’m feeling a little hopeless,” she said.\\n\\nThe clerk called out No. 66, and Schuetz made her way to the lectern. Supporters of the new commissioners filled the seats on one side of the meeting room and those who opposed them were on the other.\\n\\n“I’m Sierra Schuetz. I’m an Ottawa County employee,” she said in a soft voice. “It’s my absolute honor and privilege to serve as the coordinator of Ottawa Food.”\\n\\nThe room fell quiet.\\n\\nAdvertisement\\n\\nSchuetz talked about the impact that the proposed budget cuts would have on her, her partner and their “little growing family.” She talked about how “immensely stressful” the last few years had been for everyone. “Family relationships have been hurt. Friendships have been hurt, and programs have been affected,” she said.\\n\\nAnd she suggested that it didn’t have to be this way. “Reconciliation and healing are available to each of you and to us as a community,” she said. On the dais, Miedema listened and scribbled some notes.\\n\\nThe commissioners didn’t begin discussing the proposed budget until 11 p.m. Much of the debate focused on Ottawa Food, which all the commissioners agreed was needed in a time of high inflation. “I think this entire board has the desire to have people well taken care of,” Miedema said.\\n\\nNone of them wanted to take responsibility for passing a budget that didn’t include funding for it.\\n\\nRhodea blamed the health department for its demise, saying she had been “absolutely blown away” by how difficult it had been to get information on the program’s precise costs. Hambley and her backers on the board countered that the department had been “shut out” of the budget discussions and had never been asked for the information.\\n\\nSchuetz shifted in her chair and ran her hand across her stomach, where she could feel the baby kicking.\\n\\n“How are you feeling?” her boss texted her.\\n\\n“I feel tired and just weary,” she replied.\\n\\nA motion by Doug Zylstra, the lone Democrat on the board, to add $200,000 to the budget to cover Schuetz’s salary and other costs associated with sustaining Ottawa Food failed 7-4. Those who voted against the measure, including Miedema, maintained that the health department’s leadership could find the money for the work in its $14.4 million budget.\\n\\nSchuetz’s bosses argued that they were being asked to make an impossible choice. If they added money to Ottawa Food, they would have to take funds away from other essential programs that addressed youth suicide and substance abuse. Schuetz sympathized. “This is so senseless,” she said after the final vote had been cast.\\n\\nHer job was going away and, along with it, an entire infrastructure built up over the last decade to address food insecurity countywide. The problem wasn’t a lack of money, but rather a deficit of understanding and trust.\\n\\nSchuetz left the government center a little after midnight. A light rain was falling as she climbed into her rusting 2007 Chevy. She wondered if she should have spoken louder and more forcefully at the board meeting, if her words had made any difference at all.\\n\\nShe slipped into bed next to her partner, who was back from a bartending shift. Schuetz was too worried and upset to sleep. So, she grabbed her fetal monitor, pressed it to her stomach and listened to the rapid beat of her unborn child’s heart.'"
            ],
            "application/vnd.google.colaboratory.intrinsic+json": {
              "type": "string"
            }
          },
          "metadata": {},
          "execution_count": 149
        }
      ]
    },
    {
      "cell_type": "code",
      "source": [
        "cleaned_articles = []\n",
        "other = []\n",
        "for article in articles:\n",
        "  cleaned_article1 = extract_from_first_caps(article[0])\n",
        "  cleaned_article2 = extract_after_double_newline(article[0])\n",
        "  if cleaned_article1:\n",
        "    cleaned_articles.append(remove_double_spaces(remove_ads(cleaned_article1)))\n",
        "  elif cleaned_article2:\n",
        "    cleaned_articles.append(remove_double_spaces(remove_ads(cleaned_article2)))\n"
      ],
      "metadata": {
        "id": "ckg6JisDW9h4"
      },
      "execution_count": 155,
      "outputs": []
    },
    {
      "cell_type": "code",
      "source": [
        "len(cleaned_articles)"
      ],
      "metadata": {
        "colab": {
          "base_uri": "https://localhost:8080/"
        },
        "id": "YIWIuDxfJiuw",
        "outputId": "e0f02614-15c3-4ec2-9450-28e7dfb49bb6"
      },
      "execution_count": 156,
      "outputs": [
        {
          "output_type": "execute_result",
          "data": {
            "text/plain": [
              "9"
            ]
          },
          "metadata": {},
          "execution_count": 156
        }
      ]
    },
    {
      "cell_type": "code",
      "source": [
        "print(cleaned_articles[4][:2000])"
      ],
      "metadata": {
        "colab": {
          "base_uri": "https://localhost:8080/"
        },
        "id": "z_Nq_aNyaSUh",
        "outputId": "0ddd5429-ae9b-4c0e-a6a9-92702878e9b4"
      },
      "execution_count": 157,
      "outputs": [
        {
          "output_type": "stream",
          "name": "stdout",
          "text": [
            "In the weeks after the 2020 election, a self-assured lawyer with a Southern drawl quickly climbed the ranks of the movement trying to keep President Trump in power: She aired outlandish assertions on Fox News and before cameras at the headquarters of the Republican National Committee, filed a battery of lawsuits pressing Trump’s case and took part in an Oval Office meeting where the president considered naming her a special prosecutor.\n",
            "\n",
            "Then Sidney Powell fell back down to earth.\n",
            "\n",
            "Trump’s team spurned her. Federal prosecutors demanded her fundraising records. She was ordered to pay sanctions for filing a frivolous lawsuit in Michigan. The State Bar of Texas lodged a disciplinary complaint against her. Two companies that make voting software sued her.\n",
            "\n",
            "All that was before prosecutors began filing criminal charges. In August, she appeared as an unindicted co-conspirator in the federal indictment accusing Trump of trying to subvert the election, and, later that month, she was charged alongside him in a Georgia case brought by Atlanta-area prosecutors.\n",
            "\n",
            "On Thursday, Powell resolved the Georgia case by pleading guilty to six misdemeanor counts of conspiracy to interfere with the performance of election duties. Her plea related to her involvement with a secretive effort to access and copy election software in rural Coffee County, Ga. in the months after the 2020 election — part of an attempt to prove Democrats might have tampered with the machines.\n",
            "\n",
            "The deal turns Powell into the government’s most prominent known asset in its quest to convict Trump, potentially now dangerous to the president she once supported. But it also represents a personal minefield for the 68-year-old lawyer, who is still fundraising based on a promise to sponsor causes that are dear to supporters of the former president, including the legal defense of people accused of breaching the Capitol on Jan. 6, 2021.\n",
            "\n",
            "Sidney Powell, a former attorney for president Donald Trump, pleaded guilty in a case over \n"
          ]
        }
      ]
    },
    {
      "cell_type": "code",
      "source": [
        "articles[5][0]"
      ],
      "metadata": {
        "colab": {
          "base_uri": "https://localhost:8080/",
          "height": 143
        },
        "id": "PGFPY_-uLUxY",
        "outputId": "4ff4f457-a842-4eed-fe8d-dc85049e2ff7"
      },
      "execution_count": 158,
      "outputs": [
        {
          "output_type": "execute_result",
          "data": {
            "text/plain": [
              "\"Listen 15 min Share Comment on this story Comment Add to your saved stories Save\\n\\nIn the weeks after the 2020 election, a self-assured lawyer with a Southern drawl quickly climbed the ranks of the movement trying to keep President Trump in power: She aired outlandish assertions on Fox News and before cameras at the headquarters of the Republican National Committee, filed a battery of lawsuits pressing Trump’s case and took part in an Oval Office meeting where the president considered naming her a special prosecutor.\\n\\nThen Sidney Powell fell back down to earth.\\n\\nTrump’s team spurned her. Federal prosecutors demanded her fundraising records. She was ordered to pay sanctions for filing a frivolous lawsuit in Michigan. The State Bar of Texas lodged a disciplinary complaint against her. Two companies that make voting software sued her.\\n\\nAll that was before prosecutors began filing criminal charges. In August, she appeared as an unindicted co-conspirator in the federal indictment accusing Trump of trying to subvert the election, and, later that month, she was charged alongside him in a Georgia case brought by Atlanta-area prosecutors.\\n\\nAdvertisement\\n\\nOn Thursday, Powell resolved the Georgia case by pleading guilty to six misdemeanor counts of conspiracy to interfere with the performance of election duties. Her plea related to her involvement with a secretive effort to access and copy election software in rural Coffee County, Ga. in the months after the 2020 election — part of an attempt to prove Democrats might have tampered with the machines.\\n\\nThe deal turns Powell into the government’s most prominent known asset in its quest to convict Trump, potentially now dangerous to the president she once supported. But it also represents a personal minefield for the 68-year-old lawyer, who is still fundraising based on a promise to sponsor causes that are dear to supporters of the former president, including the legal defense of people accused of breaching the Capitol on Jan. 6, 2021.\\n\\nSidney Powell, a former attorney for president Donald Trump, pleaded guilty in a case over efforts to overturn Trump's 2020 election loss on Oct. 19. (Video: AP)\\n\\nThe plea deal sent shock waves through circles loyal to those causes.\\n\\nAdvertisement\\n\\n“I’m surprised,” said Jonathon Moseley, an attorney who has represented numerous Jan. 6 defendants. “She built a reputation on being a fighter. She wrote a book called ‘Licensed to Lie’ about government corruption. I just wouldn’t have expected her to stop fighting.”\\n\\nPowell’s attorney, Brian Rafferty, declined to comment.\\n\\nAs part of her plea, she was required to write a letter of apology to the people of Georgia — a terse handwritten note on a legal pad that she submitted to prosecutors Thursday that indicated she was sorry for her actions in Coffee County, according to a person familiar with the message who spoke on the condition of anonymity because of the matter’s sensitivity.\\n\\nFor now, the terms of Powell’s plea agreement prohibit her from discussing the case publicly or speaking to others charged.\\n\\nAdvertisement\\n\\nThat leaves associates to debate whether she is now a Trump antagonist or remains a loyal foot soldier.\\n\\nAfter Trump declined to act on some of the most brazen proposals, including naming Powell special counsel and seizing voting machines, she soured on him, according to someone who discussed the matter with her and spoke on the condition of anonymity because of the ongoing criminal cases. “She was disgusted with his unwillingness to take action,” said this person, who recalled finding it unusual that she was expressing personal disappointment with someone whose election defeat she continued to try to reverse.\\n\\nBut an attorney who once worked for Powell’s firm, Sidney Powell P.C., rejected the notion that her personal feelings toward Trump would influence her testimony.\\n\\n“The idea that she would shade her testimony based upon a personal bias could only be suggested by someone who does not know Sidney well. (Of course, I don’t think Trump committed any crime, and so I don’t think there is anything to hide.),” the attorney, Molly McCann Sanders, wrote in an email.\\n\\nAdvertisement\\n\\nOf her onetime boss, the attorney added, “I know her first priority will be to be truthful.”\\n\\n‘I’d like my key and my White House pass’\\n\\nPowell toiled for decades in high-stakes, but low-profile, circumstances — as a federal prosecutor in Texas and Virginia and then a private litigator representing defendants in the Enron financial scandal and other disputes.\\n\\nShe gained prominence in 2019 when she took over the defense of Trump’s former national security adviser, Michael Flynn, who had pleaded guilty to lying to the FBI. She went to great lengths for her client, writing to then-Attorney General William P. Barr about the matter, and, by her own account, personally briefing Trump on the case. The Justice Department announced plans to drop the case in 2020, and Trump ultimately pardoned Flynn.\\n\\n“I wish I knew,” Powell said in a 2021 interview with the Australian Broadcasting Corporation, when asked how she became involved in Trump’s post-election legal efforts in 2020.\\n\\nShe said she was “in the area at the time” and working “on another matter” with Trump’s personal attorney, Rudy Giuliani. “The next thing I know I’m smack in the middle of it,” she said. “And people are pouring in with offers of help and wanting to investigate and wanting to give us affidavits.”\\n\\nAdvertisement\\n\\nOne of those people was a Minnesota artist with no apparent expertise in election administration, who wrote to Powell four days after the election, acknowledging that her claims were “pretty wackadoodle” and yet alleging widespread malfeasance by Dominion Voting Systems — malfeasance implicating the upper echelons of the Democratic Party.\\n\\nPowell aired some of those ideas the next day on Fox News. The Nov. 8, 2020, broadcast was the first in a string of Fox appearances by Powell over the next month — appearances in which she introduced millions of Fox viewers, including the then-president, to fantastical claims of election fraud and burnished her pro-Trump bona fides.\\n\\nOn Nov. 13, she teased that she would soon publish voluminous evidence of fraud. “I’m going to release the Kraken,” she said, a reference to a mythical sea monster that soon morphed into a viral pro-Trump rallying cry.\\n\\nAdvertisement\\n\\nLess than a week later, she shared the stage with Giuliani at a news conference held at the headquarters of the Republican National Committee. The president primed his supporters for the occasion on Twitter, now known as X: “Important News Conference today by lawyers on a very clear and viable path to victory. Pieces are very nicely falling into place. RNC at 12 p.m.”\\n\\nPowell, who was presented by Giuliani as a member of Trump’s legal team, alleged a vast conspiracy by foreign forces to switch the outcome of the election.\\n\\n“What we are really dealing with here and uncovering more by the day is the massive influence of communist money through Venezuela, Cuba and likely China and the interference with our elections here in the United States,” she said at the Nov. 19, 2020, news conference.\\n\\nThree days later, the Trump campaign sought to distance itself from her. Giuliani, in a statement issued by the campaign, said Powell was “practicing law on her own.” As one campaign official put it at the time, “She was too crazy even for the president.” Powell pressed ahead with her claims, filing a series of ultimately unsuccessful lawsuits — which came to be known as the “Kraken” cases — seeking to reverse the outcome of the election in numerous states.\\n\\nAdvertisement\\n\\nAnd a month later, Powell gained access to the White House and an audience with Trump. Late on a Friday night a week before Christmas, Powell and a handful of others, including Flynn, urged the president to take extreme measures to unearth evidence of fraud and reverse his defeat, according to the testimony of people present. As the Dec. 18, 2020, meeting unfolded, first in the Oval Office and then in the White House residence, an aide described it in a text message as “UNHINGED.”\\n\\nDuring the hours-long discussion, people present later said, Trump weighed seizing voting machines from key counties, deploying the National Guard to potentially rerun the election and appointing Powell as a special counsel to investigate the election. “There was a proposal made by Sidney to become special counsel,” Bernard Kerik, a former New York Police Department commissioner and close ally of Giuliani, said in a deposition taken by the House select committee investigating the Jan. 6 attack on the Capitol.\\n\\nPowell, in a deposition with the same panel, said the president “asked me to be special counsel to address the election issues and to collect evidence.”\\n\\nAdvertisement\\n\\nBut the plan sputtered, she said. The next morning, she placed a call to Mark Meadows, the White House chief of staff, to say, “Hey, I’d like my key and my White House pass,” as she recalled. “And his response was: Well, that’s just not going to happen.”\\n\\n‘No reasonable person’\\n\\nThe reckoning for Powell began before the year was out. In December 2020, a former Dominion employee sued her for defamation in Colorado. He argued that she, Trump and others ruined his reputation by linking him to false claims the election was stolen. The case is still pending.\\n\\nThe next month, Dominion itself sued her for defamation, asking for $1.3 billion in damages. No evidence has ever emerged that its machines were used to swing the election.\\n\\nAnother company that makes voting software, Smartmatic, followed suit in April 2021. (A New York judge later dismissed the claims against her, but the company has a separate federal case, which is still pending.)\\n\\nResponding to Dominion’s claims that spring, Powell’s attorneys contended that her statements could not be proved true or false. “No reasonable person would conclude that the statements were truly statements of fact,” they wrote. Their argument was that she was merely asserting her opinions and legal theories, not that her claims were necessarily wrong.\\n\\nStill, Trump erupted at the defense, and she quickly fell out of favor with him, said people familiar with the matter, who said she has not been a presence in his inner circle for several years.\\n\\nInitially, he expressed appreciation that Powell was “fighting” for him while others were giving up. But her theories were scorned by other lawyers, and Trump ultimately conceded that Powell was too conspiratorial even for him. In recent months, Trump has told others that Powell was not his lawyer, while maintaining that he “liked her” at the time, according to an adviser. Trump’s lawyers believe they can undermine her as a credible witness because she has cast doubt on the veracity of her own statements, the adviser said.\\n\\nPowell’s troubles mounted later in 2021, when the U.S. attorney’s office for the District of Columbia sought communications and other records related to fundraising and accounting by a number of groups started by Powell, including Defending the Republic, a Texas-based organization claiming 501(c) 4 nonprofit status, and a PAC by the same name, according to documents reviewed by The Washington Post.\\n\\nAn attorney for Powell said at the time that, “We have always known the more effective we are, the more the false attacks will intensify. Defending the Republic has and will continue to fight for #WeThePeople who make this country work.”\\n\\nThe nonprofit group raised $16.4 million in the year following the 2020 election, according to tax filings. According to its website, Defending the Republic’s causes include: election fraud, fighting “lawfare,” exposing government corruption, fighting mandates, “defending January 6ers,” and Freedom of Information Act litigation.\\n\\nThe group has helped cover legal expenses for numerous people prosecuted for their alleged involvement in the pro-Trump riot at the Capitol, according to defense attorneys involved in these cases.\\n\\nMoseley, the attorney who has represented Jan. 6 defendants, said the money hasn’t always come through as promised. One of his paralegals still needs to be paid, he said, and another attorney has complained to him of not receiving payments for some time.\\n\\n“I think Sidney’s funding had to take care of her and some of her legal battles,” said Moseley, who was disbarred last year in Virginia for violating a range of professional rules.\\n\\nAt the end of 2021, a federal judge in Michigan ordered Powell and others involved in the November 2020 lawsuit that challenged the election results in that state to pay about $175,000 in legal fees to the state of Michigan and the city of Detroit. The judge, Linda V. Parker, called the fees an “appropriate sanction … needed to deter Plaintiffs’ counsel and others from engaging in similar misconduct in the future.”\\n\\nAn attorney for Powell, Howard Kleinhendler, criticized the decision and vowed to appeal, but a federal appeals court panel upheld the sanctions against her.\\n\\nLast year, a disciplinary commission within the Texas bar sued Powell for professional misconduct. A state judge tossed the complaint, prompting the commission to appeal.\\n\\n‘Guilty’\\n\\nJury selection in Powell’s trial in Fulton County had been set to begin this week. Conviction on seven felony counts — including violation of Georgia’s anti-racketeering act and conspiracy to commit election fraud — could have been rock bottom for the embattled lawyer.\\n\\nHer deal to plead guilty only to misdemeanors means she will avoid jail time. In addition to six years of probation, she agreed to pay a $6,000 fine and $2,700 in restitution to the state of Georgia.\\n\\nThe deal may also help preserve Powell’s ability to practice law because it involved prosecutors spelling out that her crimes did not involve “moral turpitude,” language she could use to fend off the complaint in Texas. And because Powell has no prior felonies, successful completion of the terms of her sentence will allow her under Georgia law to erase the convictions from her permanent record.\\n\\nThe deal means “better consequences for her,” Moseley said, but it puts her standing in the pro-Trump movement in doubt. “It’s going to be hard to rally the troops after this,” he said.\\n\\nInstead of furnishing evidence of election interference by the Chinese or Venezuelans, she is admitting to having engaged in it herself. “Guilty,” she intoned in a downtown Atlanta courtroom, when asked by a prosecutor how she pleaded to the charges.\\n\\nPowell was the second of the former president’s 18 co-defendants to plead guilty and agree to testify. Bail bondsman Scott Hall pleaded guilty in September.\\n\\nAnother defendant, Kenneth Chesebro, pleaded guilty on Friday to a single felony count of conspiring to file false documents — a charge related to his role in organizing GOP slates of electors in seven states won by Joe Biden to cast votes for Trump anyway.\\n\\nPowell has now agreed to testify against the remaining defendants in the case, including Trump. It’s not known what precisely prosecutors hope to learn from Powell and when they might call her as a witness.\\n\\nFulton County Assistant District Attorney Daysha Young read aloud in court the facts prosecutors would have presented against Powell at trial, describing how Powell entered into a conspiracy with several co-defendants in the case. The purpose of the conspiracy, Young said, was to unlawfully access election machines in Coffee County. At the center of the conspiracy, Young argued, was Powell’s move to retain Sullivan Strickler, an Atlanta-based cyber-forensics firm — an effort that was first publicly revealed by the Post.\\n\\nHer testimony could reveal whether others in Trump’s orbit were involved with or aware of the scheme. There are some clues about ways Powell may be able to link members of Trump’s inner circle to the far-fetched effort. In a December 2020 email — which was read aloud during a deposition taken by the House select committee investigating the Jan. 6 attack — Powell seems to have kept Meadows — another defendant in the Georgia case — apprised of efforts to access voting software in various states.\\n\\n“Georgia machine access promised in meeting Friday night,” part of the email read. A lawyer for Meadows did not respond to a request for comment.\\n\\nPowell is now limited in what she can say publicly about the Georgia case. But her nonprofit, Defending the Republic, asked followers for forbearance in a Friday newsletter distributed via the Substack platform: “We at Defending the Republic appreciate your patience, support, and understanding of Sidney’s decision regarding the Georgia case.”\\n\\n“Now that this is behind us, we can focus on our mission,” the newsletter vowed.\""
            ],
            "application/vnd.google.colaboratory.intrinsic+json": {
              "type": "string"
            }
          },
          "metadata": {},
          "execution_count": 158
        }
      ]
    },
    {
      "cell_type": "code",
      "source": [],
      "metadata": {
        "id": "zqrX7MeYJFQs"
      },
      "execution_count": null,
      "outputs": []
    }
  ]
}